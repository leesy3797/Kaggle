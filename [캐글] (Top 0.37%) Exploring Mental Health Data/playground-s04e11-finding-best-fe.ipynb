{
 "cells": [
  {
   "cell_type": "markdown",
   "id": "e7fd3fda",
   "metadata": {
    "papermill": {
     "duration": 0.007736,
     "end_time": "2024-11-20T10:08:15.412733",
     "exception": false,
     "start_time": "2024-11-20T10:08:15.404997",
     "status": "completed"
    },
    "tags": []
   },
   "source": [
    "# Setting"
   ]
  },
  {
   "cell_type": "code",
   "execution_count": 1,
   "id": "df057a6a",
   "metadata": {
    "execution": {
     "iopub.execute_input": "2024-11-20T10:08:15.427499Z",
     "iopub.status.busy": "2024-11-20T10:08:15.427216Z",
     "iopub.status.idle": "2024-11-20T10:08:20.764483Z",
     "shell.execute_reply": "2024-11-20T10:08:20.763849Z"
    },
    "papermill": {
     "duration": 5.347152,
     "end_time": "2024-11-20T10:08:20.767452",
     "exception": false,
     "start_time": "2024-11-20T10:08:15.420300",
     "status": "completed"
    },
    "tags": []
   },
   "outputs": [],
   "source": [
    "import numpy as np\n",
    "import polars as pl\n",
    "import pandas as pd\n",
    "from sklearn.base import clone\n",
    "import seaborn as sns\n",
    "import optuna\n",
    "import os\n",
    "import category_encoders as ce\n",
    "from IPython.display import clear_output\n",
    "\n",
    "import warnings\n",
    "warnings.filterwarnings('ignore')\n",
    "pd.options.display.max_columns = None\n",
    "\n",
    "import lightgbm as lgb\n",
    "from catboost import CatBoostRegressor, CatBoostClassifier, Pool\n",
    "from sklearn.model_selection import *\n",
    "from sklearn.metrics import *"
   ]
  },
  {
   "cell_type": "markdown",
   "id": "729a3033",
   "metadata": {
    "papermill": {
     "duration": 0.010722,
     "end_time": "2024-11-20T10:08:20.790681",
     "exception": false,
     "start_time": "2024-11-20T10:08:20.779959",
     "status": "completed"
    },
    "tags": []
   },
   "source": [
    "# Import Data"
   ]
  },
  {
   "cell_type": "code",
   "execution_count": 2,
   "id": "1045a490",
   "metadata": {
    "execution": {
     "iopub.execute_input": "2024-11-20T10:08:20.815047Z",
     "iopub.status.busy": "2024-11-20T10:08:20.813739Z",
     "iopub.status.idle": "2024-11-20T10:08:21.603589Z",
     "shell.execute_reply": "2024-11-20T10:08:21.602762Z"
    },
    "papermill": {
     "duration": 0.80542,
     "end_time": "2024-11-20T10:08:21.605638",
     "exception": false,
     "start_time": "2024-11-20T10:08:20.800218",
     "status": "completed"
    },
    "tags": []
   },
   "outputs": [
    {
     "name": "stdout",
     "output_type": "stream",
     "text": [
      "CPU times: user 448 ms, sys: 131 ms, total: 579 ms\n",
      "Wall time: 780 ms\n"
     ]
    }
   ],
   "source": [
    "%%time\n",
    "\n",
    "train = pd.read_csv('/kaggle/input/playground-series-s4e11/train.csv')\n",
    "test = pd.read_csv('/kaggle/input/playground-series-s4e11/test.csv')\n",
    "sample = pd.read_csv('/kaggle/input/playground-series-s4e11/sample_submission.csv')\n",
    "original = pd.read_csv('/kaggle/input/depression-surveydataset-for-analysis/final_depression_dataset_1.csv')\n",
    "\n",
    "original['Depression'] = original['Depression'].map({'No':0, 'Yes':1})\n",
    "\n",
    "train = train.drop('id', axis = 1)\n",
    "test = test.drop('id', axis = 1)\n",
    "\n",
    "train = pd.concat(objs = [train, original])"
   ]
  },
  {
   "cell_type": "markdown",
   "id": "f9d29f21",
   "metadata": {
    "papermill": {
     "duration": 0.005992,
     "end_time": "2024-11-20T10:08:21.618083",
     "exception": false,
     "start_time": "2024-11-20T10:08:21.612091",
     "status": "completed"
    },
    "tags": []
   },
   "source": [
    "# Feature Engineering"
   ]
  },
  {
   "cell_type": "code",
   "execution_count": 3,
   "id": "bc469595",
   "metadata": {
    "execution": {
     "iopub.execute_input": "2024-11-20T10:08:21.631616Z",
     "iopub.status.busy": "2024-11-20T10:08:21.631307Z",
     "iopub.status.idle": "2024-11-20T10:08:21.635730Z",
     "shell.execute_reply": "2024-11-20T10:08:21.635023Z"
    },
    "papermill": {
     "duration": 0.013099,
     "end_time": "2024-11-20T10:08:21.637356",
     "exception": false,
     "start_time": "2024-11-20T10:08:21.624257",
     "status": "completed"
    },
    "tags": []
   },
   "outputs": [],
   "source": [
    "def binding_age(df, cols):\n",
    "    bins = [i for i in range(0, 105, 5)]\n",
    "    labels = [f'{i}-{i+4}' for i in range(0, 100, 5)]\n",
    "    df['Age_Bind'] = pd.cut(df[cols], bins=bins, labels=labels)\n",
    "    return df"
   ]
  },
  {
   "cell_type": "code",
   "execution_count": 4,
   "id": "f3dc6b0a",
   "metadata": {
    "execution": {
     "iopub.execute_input": "2024-11-20T10:08:21.650827Z",
     "iopub.status.busy": "2024-11-20T10:08:21.650268Z",
     "iopub.status.idle": "2024-11-20T10:08:21.655650Z",
     "shell.execute_reply": "2024-11-20T10:08:21.654911Z"
    },
    "papermill": {
     "duration": 0.013736,
     "end_time": "2024-11-20T10:08:21.657229",
     "exception": false,
     "start_time": "2024-11-20T10:08:21.643493",
     "status": "completed"
    },
    "tags": []
   },
   "outputs": [],
   "source": [
    "def age_statistics(train, test):\n",
    "    age_bind_depression = train.groupby('Age_Bind')['Depression'].mean()\n",
    "    age_bind_ratio = train['Age_Bind'].value_counts(normalize = True)\n",
    "    age_bind_depression_cali = pd.merge(age_bind_depression, age_bind_ratio, how = 'inner', left_on = age_bind_depression.index, right_on = age_bind_ratio.index).dropna()\n",
    "    age_bind_depression_cali = age_bind_depression_cali.rename(columns = {\"key_0\":'Age_Bind', \"Depression\" : \"Depression Rate\"})\n",
    "    age_bind_depression_cali['Calibrate Score'] = age_bind_depression_cali['Depression Rate'] * age_bind_depression_cali['proportion']\n",
    "    \n",
    "    for col in age_bind_depression_cali.columns:\n",
    "        age_bind_depression_cali[col] = age_bind_depression_cali[col].astype('str')\n",
    "    \n",
    "    train = pd.merge(train, age_bind_depression_cali, how = 'left', on = 'Age_Bind')\n",
    "    test = pd.merge(test, age_bind_depression_cali, how = 'left', on = 'Age_Bind')\n",
    "    return train, test"
   ]
  },
  {
   "cell_type": "code",
   "execution_count": 5,
   "id": "c7cf4016",
   "metadata": {
    "execution": {
     "iopub.execute_input": "2024-11-20T10:08:21.671930Z",
     "iopub.status.busy": "2024-11-20T10:08:21.671422Z",
     "iopub.status.idle": "2024-11-20T10:08:21.915549Z",
     "shell.execute_reply": "2024-11-20T10:08:21.914775Z"
    },
    "papermill": {
     "duration": 0.253106,
     "end_time": "2024-11-20T10:08:21.917666",
     "exception": false,
     "start_time": "2024-11-20T10:08:21.664560",
     "status": "completed"
    },
    "tags": []
   },
   "outputs": [],
   "source": [
    "train = binding_age(train, 'Age')\n",
    "test = binding_age(test, 'Age')\n",
    "train, test = age_statistics(train, test)"
   ]
  },
  {
   "cell_type": "code",
   "execution_count": 6,
   "id": "09b9ef34",
   "metadata": {
    "execution": {
     "iopub.execute_input": "2024-11-20T10:08:21.931652Z",
     "iopub.status.busy": "2024-11-20T10:08:21.931392Z",
     "iopub.status.idle": "2024-11-20T10:08:21.935174Z",
     "shell.execute_reply": "2024-11-20T10:08:21.934393Z"
    },
    "papermill": {
     "duration": 0.012465,
     "end_time": "2024-11-20T10:08:21.936704",
     "exception": false,
     "start_time": "2024-11-20T10:08:21.924239",
     "status": "completed"
    },
    "tags": []
   },
   "outputs": [],
   "source": [
    "# def cleaning_student(train, test):\n",
    "#     # 'Working Professional or Student' 열에서 'Student'인 경우 Profession을 'Student'로 설정\n",
    "#     train.loc[train['Working Professional or Student'] == 'Student', 'Profession'] = \"Student\"\n",
    "#     test.loc[test['Working Professional or Student'] == 'Student', 'Profession'] = \"Student\"\n",
    "#     return train, test\n",
    "\n",
    "# train, test = cleaning_student(train, test)"
   ]
  },
  {
   "cell_type": "markdown",
   "id": "01822867",
   "metadata": {
    "papermill": {
     "duration": 0.005876,
     "end_time": "2024-11-20T10:08:21.949004",
     "exception": false,
     "start_time": "2024-11-20T10:08:21.943128",
     "status": "completed"
    },
    "tags": []
   },
   "source": [
    "# Null Checking"
   ]
  },
  {
   "cell_type": "code",
   "execution_count": 7,
   "id": "85369bbb",
   "metadata": {
    "execution": {
     "iopub.execute_input": "2024-11-20T10:08:21.963319Z",
     "iopub.status.busy": "2024-11-20T10:08:21.963048Z",
     "iopub.status.idle": "2024-11-20T10:08:21.966548Z",
     "shell.execute_reply": "2024-11-20T10:08:21.965761Z"
    },
    "papermill": {
     "duration": 0.011892,
     "end_time": "2024-11-20T10:08:21.968088",
     "exception": false,
     "start_time": "2024-11-20T10:08:21.956196",
     "status": "completed"
    },
    "tags": []
   },
   "outputs": [],
   "source": [
    "# for col in train.columns:\n",
    "#     if train[col].nunique() == 5:\n",
    "#         print(f\"Number of {col} ===> [{train[col].nunique()}]\")\n",
    "        \n",
    "# train[['Academic Pressure', 'Work Pressure', 'Study Satisfaction', 'Job Satisfaction', 'Financial Stress']].isna().sum() / train.shape[0]"
   ]
  },
  {
   "cell_type": "markdown",
   "id": "b9fd6556",
   "metadata": {
    "papermill": {
     "duration": 0.005932,
     "end_time": "2024-11-20T10:08:21.980273",
     "exception": false,
     "start_time": "2024-11-20T10:08:21.974341",
     "status": "completed"
    },
    "tags": []
   },
   "source": [
    "### [Null] 'Academic Pressure', 'Work Pressure', 'Study Satisfaction', 'Job Satisfaction'"
   ]
  },
  {
   "cell_type": "code",
   "execution_count": 8,
   "id": "658bce98",
   "metadata": {
    "execution": {
     "iopub.execute_input": "2024-11-20T10:08:21.993132Z",
     "iopub.status.busy": "2024-11-20T10:08:21.992885Z",
     "iopub.status.idle": "2024-11-20T10:08:21.996641Z",
     "shell.execute_reply": "2024-11-20T10:08:21.995904Z"
    },
    "papermill": {
     "duration": 0.011873,
     "end_time": "2024-11-20T10:08:21.998126",
     "exception": false,
     "start_time": "2024-11-20T10:08:21.986253",
     "status": "completed"
    },
    "tags": []
   },
   "outputs": [],
   "source": [
    "# def print_statistics_by_group(train, column_name):\n",
    "#     # 결측치가 없는 데이터 처리\n",
    "#     not_null_data = train.loc[~train[column_name].isna(), :]\n",
    "#     # 그룹별 통계량 계산\n",
    "#     not_null_stats = not_null_data.groupby('Working Professional or Student')[column_name].agg(['mean', 'size'])\n",
    "\n",
    "#     # 결측치가 있는 데이터 처리\n",
    "#     null_data = train.loc[train[column_name].isna(), :]\n",
    "#     # 그룹별 통계량 계산 (결측치가 있는 경우)\n",
    "#     null_stats = null_data.groupby('Working Professional or Student')[column_name].agg(['mean', 'size'])\n",
    "    \n",
    "#     # 출력\n",
    "#     print(f\"Statistics for {column_name}:\")\n",
    "#     print(\"Not Null Data Statistics:\")\n",
    "#     display(not_null_stats)\n",
    "#     print(\"\\nNull Data Statistics:\")\n",
    "#     display(null_stats)\n",
    "#     print(\"\\n\")\n",
    "\n",
    "# # 예시로 각 컬럼에 대해 통계 확인하기\n",
    "# columns_to_check = ['Academic Pressure', 'Work Pressure', 'Study Satisfaction', 'Job Satisfaction', 'Financial Stress']\n",
    "\n",
    "# for column in columns_to_check:\n",
    "#     print_statistics_by_group(train, column)"
   ]
  },
  {
   "cell_type": "code",
   "execution_count": 9,
   "id": "db6f1cfd",
   "metadata": {
    "execution": {
     "iopub.execute_input": "2024-11-20T10:08:22.011282Z",
     "iopub.status.busy": "2024-11-20T10:08:22.011038Z",
     "iopub.status.idle": "2024-11-20T10:08:22.014405Z",
     "shell.execute_reply": "2024-11-20T10:08:22.013663Z"
    },
    "papermill": {
     "duration": 0.011717,
     "end_time": "2024-11-20T10:08:22.015933",
     "exception": false,
     "start_time": "2024-11-20T10:08:22.004216",
     "status": "completed"
    },
    "tags": []
   },
   "outputs": [],
   "source": [
    "# not_null_work_pressure = train.loc[~train['Work Pressure'].isna(), :]\n",
    "# not_null_work_pressure.groupby('Working Professional or Student')['Work Pressure'].agg(['mean', 'size'])\n",
    "\n",
    "# not_null_work_pressure[not_null_work_pressure['Working Professional or Student'] != 'Student']\n",
    "\n",
    "# null_work_pressure = train.loc[train['Work Pressure'].isna(), :]\n",
    "# null_work_pressure.groupby('Working Professional or Student')['Work Pressure'].agg(['mean', 'size'])"
   ]
  },
  {
   "cell_type": "code",
   "execution_count": 10,
   "id": "c67337a4",
   "metadata": {
    "execution": {
     "iopub.execute_input": "2024-11-20T10:08:22.028720Z",
     "iopub.status.busy": "2024-11-20T10:08:22.028490Z",
     "iopub.status.idle": "2024-11-20T10:08:22.371970Z",
     "shell.execute_reply": "2024-11-20T10:08:22.370741Z"
    },
    "papermill": {
     "duration": 0.352207,
     "end_time": "2024-11-20T10:08:22.374139",
     "exception": false,
     "start_time": "2024-11-20T10:08:22.021932",
     "status": "completed"
    },
    "tags": []
   },
   "outputs": [],
   "source": [
    "def fill_null(train, test, cols):\n",
    "    for col in cols:\n",
    "        if col in ['Academic Pressure', 'Study Satisfaction']:\n",
    "            # 학생 그룹에 대해 결측치 처리\n",
    "            for df in [train, test]:\n",
    "                avg_value = round(df[df['Working Professional or Student'] == 'Student'][col].mean())\n",
    "                df.loc[df['Working Professional or Student'] == 'Student', col] = df.loc[df['Working Professional or Student'] == 'Student', col].fillna(avg_value)\n",
    "\n",
    "        elif col in ['Work Pressure', 'Job Satisfaction']:\n",
    "            # 직장인 그룹에 대해 결측치 처리\n",
    "            for df in [train, test]:\n",
    "                avg_value = round(df[df['Working Professional or Student'] != 'Student'][col].mean())\n",
    "                df.loc[df['Working Professional or Student'] != 'Student', col] = df.loc[df['Working Professional or Student'] != 'Student', col].fillna(avg_value)\n",
    "\n",
    "        elif col == \"CGPA\":\n",
    "            # 학생 그룹에 대해 결측치 처리 (CGPA)\n",
    "            for df in [train, test]:\n",
    "                avg_value = df[df['Working Professional or Student'] == 'Student'][col].mean()\n",
    "                df.loc[df['Working Professional or Student'] == 'Student', col] = df.loc[df['Working Professional or Student'] == 'Student', col].fillna(avg_value)\n",
    "\n",
    "    return train, test\n",
    "\n",
    "# def fill_null(train, test, cols):\n",
    "#     for col in cols:\n",
    "#         if col in ['Academic Pressure', 'Study Satisfaction']:\n",
    "#             # 학생 그룹에 대해 결측치 처리\n",
    "#             for df in [train, test]:\n",
    "#                 avg_value = round(train[train['Working Professional or Student'] == 'Student'][col].mean())\n",
    "#                 df.loc[df['Working Professional or Student'] == 'Student', col] = df.loc[df['Working Professional or Student'] == 'Student', col].fillna(avg_value)\n",
    "\n",
    "#         elif col in ['Work Pressure', 'Job Satisfaction']:\n",
    "#             # 직장인 그룹에 대해 결측치 처리\n",
    "#             for df in [train, test]:\n",
    "#                 avg_value = round(train[train['Working Professional or Student'] != 'Student'][col].mean())\n",
    "#                 df.loc[df['Working Professional or Student'] != 'Student', col] = df.loc[df['Working Professional or Student'] != 'Student', col].fillna(avg_value)\n",
    "\n",
    "#         elif col == \"CGPA\":\n",
    "#             # 학생 그룹에 대해 결측치 처리 (CGPA)\n",
    "#             for df in [train, test]:\n",
    "#                 avg_value = train[train['Working Professional or Student'] == 'Student'][col].mean()\n",
    "#                 df.loc[df['Working Professional or Student'] == 'Student', col] = df.loc[df['Working Professional or Student'] == 'Student', col].fillna(avg_value)\n",
    "\n",
    "#     return train, test\n",
    "\n",
    "# 사용할 컬럼 목록\n",
    "pressure_satisfaction_cols = ['Academic Pressure', 'Work Pressure', 'Study Satisfaction', 'Job Satisfaction', 'CGPA']\n",
    "\n",
    "train, test = fill_null(train, test, pressure_satisfaction_cols)"
   ]
  },
  {
   "cell_type": "code",
   "execution_count": 11,
   "id": "83380362",
   "metadata": {
    "execution": {
     "iopub.execute_input": "2024-11-20T10:08:22.387843Z",
     "iopub.status.busy": "2024-11-20T10:08:22.387249Z",
     "iopub.status.idle": "2024-11-20T10:08:22.390751Z",
     "shell.execute_reply": "2024-11-20T10:08:22.390055Z"
    },
    "papermill": {
     "duration": 0.011847,
     "end_time": "2024-11-20T10:08:22.392287",
     "exception": false,
     "start_time": "2024-11-20T10:08:22.380440",
     "status": "completed"
    },
    "tags": []
   },
   "outputs": [],
   "source": [
    "# train[pressure_satisfaction_cols] = train[pressure_satisfaction_cols].fillna(0)\n",
    "# test[pressure_satisfaction_cols] = test[pressure_satisfaction_cols].fillna(0)"
   ]
  },
  {
   "cell_type": "markdown",
   "id": "92234c95",
   "metadata": {
    "papermill": {
     "duration": 0.005807,
     "end_time": "2024-11-20T10:08:22.404089",
     "exception": false,
     "start_time": "2024-11-20T10:08:22.398282",
     "status": "completed"
    },
    "tags": []
   },
   "source": [
    "# Feature Enginnering\n",
    "### Total Score (Pressure + Satisfaction)"
   ]
  },
  {
   "cell_type": "code",
   "execution_count": 12,
   "id": "481816ae",
   "metadata": {
    "execution": {
     "iopub.execute_input": "2024-11-20T10:08:22.417266Z",
     "iopub.status.busy": "2024-11-20T10:08:22.416722Z",
     "iopub.status.idle": "2024-11-20T10:08:22.420026Z",
     "shell.execute_reply": "2024-11-20T10:08:22.419301Z"
    },
    "papermill": {
     "duration": 0.011498,
     "end_time": "2024-11-20T10:08:22.421572",
     "exception": false,
     "start_time": "2024-11-20T10:08:22.410074",
     "status": "completed"
    },
    "tags": []
   },
   "outputs": [],
   "source": [
    "# train[['Academic Pressure', 'Work Pressure', 'Study Satisfaction', 'Job Satisfaction', 'Depression']].corr(method = 'spearman')"
   ]
  },
  {
   "cell_type": "code",
   "execution_count": 13,
   "id": "cec3a206",
   "metadata": {
    "execution": {
     "iopub.execute_input": "2024-11-20T10:08:22.434449Z",
     "iopub.status.busy": "2024-11-20T10:08:22.433988Z",
     "iopub.status.idle": "2024-11-20T10:08:22.437182Z",
     "shell.execute_reply": "2024-11-20T10:08:22.436542Z"
    },
    "papermill": {
     "duration": 0.011227,
     "end_time": "2024-11-20T10:08:22.438701",
     "exception": false,
     "start_time": "2024-11-20T10:08:22.427474",
     "status": "completed"
    },
    "tags": []
   },
   "outputs": [],
   "source": [
    "# corr_df = train[['Academic Pressure', 'Work Pressure', 'Study Satisfaction', 'Job Satisfaction', 'Depression']].corr(method = 'spearman')\n",
    "\n",
    "# sns.heatmap(corr_df, annot = True, fmt = '.3f', cmap = 'RdYlBu_r')"
   ]
  },
  {
   "cell_type": "code",
   "execution_count": 14,
   "id": "e2857ab4",
   "metadata": {
    "execution": {
     "iopub.execute_input": "2024-11-20T10:08:22.451905Z",
     "iopub.status.busy": "2024-11-20T10:08:22.451386Z",
     "iopub.status.idle": "2024-11-20T10:08:22.455231Z",
     "shell.execute_reply": "2024-11-20T10:08:22.454537Z"
    },
    "papermill": {
     "duration": 0.012,
     "end_time": "2024-11-20T10:08:22.456758",
     "exception": false,
     "start_time": "2024-11-20T10:08:22.444758",
     "status": "completed"
    },
    "tags": []
   },
   "outputs": [],
   "source": [
    "# # 상관 행렬 계산 (Spearman 방법)\n",
    "# tmp_train = train[['Academic Pressure', 'Work Pressure', 'Study Satisfaction', 'Job Satisfaction', 'Depression']].copy()\n",
    "# tmp_test = test[['Academic Pressure', 'Work Pressure', 'Study Satisfaction', 'Job Satisfaction']].copy()\n",
    "\n",
    "# corr_df = tmp_train.corr(method='spearman')\n",
    "\n",
    "# # 각 column에 대한 상관 계수 추출\n",
    "# corr_academic = corr_df.loc['Academic Pressure', 'Depression']\n",
    "# corr_work = corr_df.loc['Work Pressure', 'Depression']\n",
    "# corr_study = corr_df.loc['Study Satisfaction', 'Depression']\n",
    "# corr_job = corr_df.loc['Job Satisfaction', 'Depression']\n",
    "\n",
    "# # total_score 생성\n",
    "# train['total_score'] = (tmp_train['Academic Pressure'].fillna(0) * corr_academic) + \\\n",
    "#                         (tmp_train['Work Pressure'].fillna(0) * corr_work) + \\\n",
    "#                         (tmp_train['Study Satisfaction'].fillna(0) * corr_study) + \\\n",
    "#                         (tmp_train['Job Satisfaction'].fillna(0) * corr_job)\n",
    "\n",
    "# test['total_score'] = (tmp_test['Academic Pressure'].fillna(0) * corr_academic) + \\\n",
    "#                         (tmp_test['Work Pressure'].fillna(0) * corr_work) + \\\n",
    "#                         (tmp_test['Study Satisfaction'].fillna(0) * corr_study) + \\\n",
    "#                         (tmp_test['Job Satisfaction'].fillna(0) * corr_job)"
   ]
  },
  {
   "cell_type": "code",
   "execution_count": 15,
   "id": "c121eea9",
   "metadata": {
    "execution": {
     "iopub.execute_input": "2024-11-20T10:08:22.469530Z",
     "iopub.status.busy": "2024-11-20T10:08:22.469308Z",
     "iopub.status.idle": "2024-11-20T10:08:22.472563Z",
     "shell.execute_reply": "2024-11-20T10:08:22.471936Z"
    },
    "papermill": {
     "duration": 0.011253,
     "end_time": "2024-11-20T10:08:22.474099",
     "exception": false,
     "start_time": "2024-11-20T10:08:22.462846",
     "status": "completed"
    },
    "tags": []
   },
   "outputs": [],
   "source": [
    "# train[['total_score', 'Depression']].corr()"
   ]
  },
  {
   "cell_type": "code",
   "execution_count": 16,
   "id": "d88de14f",
   "metadata": {
    "execution": {
     "iopub.execute_input": "2024-11-20T10:08:22.487172Z",
     "iopub.status.busy": "2024-11-20T10:08:22.486686Z",
     "iopub.status.idle": "2024-11-20T10:08:22.515752Z",
     "shell.execute_reply": "2024-11-20T10:08:22.514980Z"
    },
    "papermill": {
     "duration": 0.037181,
     "end_time": "2024-11-20T10:08:22.517260",
     "exception": false,
     "start_time": "2024-11-20T10:08:22.480079",
     "status": "completed"
    },
    "tags": []
   },
   "outputs": [
    {
     "data": {
      "text/plain": [
       "array(['BHM', 'LLB', 'B.Pharm', 'BBA', 'MCA', 'MD', 'B.Sc', 'ME',\n",
       "       'B.Arch', 'BCA', 'BE', 'MA', 'B.Ed', 'B.Com', 'MBA', 'M.Com', nan,\n",
       "       'B.A', 'Class 12', 'M.Tech', 'PhD', 'M.Ed', 'M.Sc', 'B.Tech',\n",
       "       'LLM', 'MBBS', 'M.Pharm', 'MPA', 'Class 11', 'M.Arch'],\n",
       "      dtype=object)"
      ]
     },
     "execution_count": 16,
     "metadata": {},
     "output_type": "execute_result"
    }
   ],
   "source": [
    "degree = {\n",
    "    \"BCom\": \"B.Com\", \"B.Com\": \"B.Com\", \"B.Comm\": \"B.Com\",\n",
    "    \"B.Tech\": \"B.Tech\", \"BTech\": \"B.Tech\", \"B.T\": \"B.Tech\",\n",
    "    \"BSc\": \"B.Sc\", \"B.Sc\": \"B.Sc\", \"Bachelor of Science\": \"B.Sc\",\n",
    "    \"BArch\": \"B.Arch\", \"B.Arch\": \"B.Arch\",\n",
    "    \"BA\": \"B.A\", \"B.A\": \"B.A\",\n",
    "    \"BBA\": \"BBA\", \"BB\": \"BBA\",\n",
    "    \"BCA\": \"BCA\",\n",
    "    \"BE\": \"BE\",\n",
    "    \"BEd\": \"B.Ed\", \"B.Ed\": \"B.Ed\",\n",
    "    \"BPharm\": \"B.Pharm\", \"B.Pharm\": \"B.Pharm\",\n",
    "    \"BHM\": \"BHM\",\n",
    "    \"LLB\": \"LLB\", \"LL B\": \"LLB\", \"LL BA\": \"LLB\", \"LL.Com\": \"LLB\", \"LLCom\": \"LLB\",\n",
    "    \"MCom\": \"M.Com\", \"M.Com\": \"M.Com\",\n",
    "    \"M.Tech\": \"M.Tech\", \"MTech\": \"M.Tech\", \"M.T\": \"M.Tech\",\n",
    "    \"MSc\": \"M.Sc\", \"M.Sc\": \"M.Sc\", \"Master of Science\": \"M.Sc\",\n",
    "    \"MBA\": \"MBA\",\n",
    "    \"MCA\": \"MCA\",\n",
    "    \"MD\": \"MD\",\n",
    "    \"ME\": \"ME\",\n",
    "    \"MEd\": \"M.Ed\", \"M.Ed\": \"M.Ed\",\n",
    "    \"MArch\": \"M.Arch\", \"M.Arch\": \"M.Arch\",\n",
    "    \"MPharm\": \"M.Pharm\", \"M.Pharm\": \"M.Pharm\",\n",
    "    \"MA\": \"MA\", \"M.A\": \"MA\",\n",
    "    \"MPA\": \"MPA\",\n",
    "    \"LLM\": \"LLM\",\n",
    "    \"PhD\": \"PhD\",\n",
    "    \"MBBS\": \"MBBS\",\n",
    "    \"CA\": \"CA\",\n",
    "    \"Class 12\": \"Class 12\", \"12th\": \"Class 12\",\n",
    "    \"Class 11\": \"Class 11\", \"11th\": \"Class 11\"\n",
    "}\n",
    "\n",
    "train['Degree'] = train['Degree'].map(degree)\n",
    "test['Degree'] = test['Degree'].map(degree)\n",
    "\n",
    "train['Degree'].unique()"
   ]
  },
  {
   "cell_type": "markdown",
   "id": "3367557a",
   "metadata": {
    "papermill": {
     "duration": 0.005796,
     "end_time": "2024-11-20T10:08:22.529224",
     "exception": false,
     "start_time": "2024-11-20T10:08:22.523428",
     "status": "completed"
    },
    "tags": []
   },
   "source": [
    "# Clean Data"
   ]
  },
  {
   "cell_type": "code",
   "execution_count": 17,
   "id": "ba631b7c",
   "metadata": {
    "execution": {
     "iopub.execute_input": "2024-11-20T10:08:22.543115Z",
     "iopub.status.busy": "2024-11-20T10:08:22.542597Z",
     "iopub.status.idle": "2024-11-20T10:08:22.633812Z",
     "shell.execute_reply": "2024-11-20T10:08:22.633035Z"
    },
    "papermill": {
     "duration": 0.100036,
     "end_time": "2024-11-20T10:08:22.635356",
     "exception": false,
     "start_time": "2024-11-20T10:08:22.535320",
     "status": "completed"
    },
    "tags": []
   },
   "outputs": [],
   "source": [
    "def clean_columns(df, column, valid_categories):\n",
    "    df[column] = df[column].apply(lambda x : x if x in valid_categories else 'Noise')\n",
    "    return df\n",
    "\n",
    "valid_sleep_duration = [\"Less than 5 hours\", \"5-6 hours\", \"6-7 hours\", \"7-8 hours\", \"More than 8 hours\"]\n",
    "valid_dietary_habits = ['Healthy', 'Moderate', 'Unhealthy']\n",
    "\n",
    "train = clean_columns(train, 'Sleep Duration', valid_sleep_duration)\n",
    "train = clean_columns(train, 'Dietary Habits', valid_dietary_habits)\n",
    "test = clean_columns(test, 'Sleep Duration', valid_sleep_duration)\n",
    "test = clean_columns(test, 'Dietary Habits', valid_dietary_habits)"
   ]
  },
  {
   "cell_type": "code",
   "execution_count": 18,
   "id": "78dfde88",
   "metadata": {
    "execution": {
     "iopub.execute_input": "2024-11-20T10:08:22.648720Z",
     "iopub.status.busy": "2024-11-20T10:08:22.648289Z",
     "iopub.status.idle": "2024-11-20T10:08:23.692267Z",
     "shell.execute_reply": "2024-11-20T10:08:23.691568Z"
    },
    "papermill": {
     "duration": 1.052505,
     "end_time": "2024-11-20T10:08:23.694095",
     "exception": false,
     "start_time": "2024-11-20T10:08:22.641590",
     "status": "completed"
    },
    "tags": []
   },
   "outputs": [],
   "source": [
    "def removieNoise(df, columns, threshold=100):\n",
    "    \n",
    "    for column in columns:\n",
    "        value_counts = df[column].value_counts()\n",
    "        low_freq_categories = value_counts[value_counts < threshold].index\n",
    "        df[column] = df[column].apply(lambda x: x if x not in low_freq_categories else 'Other')\n",
    "    \n",
    "    return df\n",
    "\n",
    "train = removieNoise(train, ['Name', 'City', 'Profession', 'Degree'])\n",
    "test = removieNoise(test, ['Name', 'City', 'Profession', 'Degree'])"
   ]
  },
  {
   "cell_type": "code",
   "execution_count": 19,
   "id": "fa163cca",
   "metadata": {
    "execution": {
     "iopub.execute_input": "2024-11-20T10:08:23.707758Z",
     "iopub.status.busy": "2024-11-20T10:08:23.707511Z",
     "iopub.status.idle": "2024-11-20T10:08:24.421692Z",
     "shell.execute_reply": "2024-11-20T10:08:24.420730Z"
    },
    "papermill": {
     "duration": 0.723317,
     "end_time": "2024-11-20T10:08:24.423886",
     "exception": false,
     "start_time": "2024-11-20T10:08:23.700569",
     "status": "completed"
    },
    "tags": []
   },
   "outputs": [],
   "source": [
    "# cat_c = [col for col in train.columns if col != 'Depression']\n",
    "# train[cat_c].dtypes\n",
    "train = train.fillna('None').astype('str')\n",
    "test = test.fillna('None').astype('str')"
   ]
  },
  {
   "cell_type": "markdown",
   "id": "2dad8f2d",
   "metadata": {
    "papermill": {
     "duration": 0.005986,
     "end_time": "2024-11-20T10:08:24.436280",
     "exception": false,
     "start_time": "2024-11-20T10:08:24.430294",
     "status": "completed"
    },
    "tags": []
   },
   "source": [
    "# Catboost Model"
   ]
  },
  {
   "cell_type": "code",
   "execution_count": 20,
   "id": "8ca51ff3",
   "metadata": {
    "execution": {
     "iopub.execute_input": "2024-11-20T10:08:24.449724Z",
     "iopub.status.busy": "2024-11-20T10:08:24.449428Z",
     "iopub.status.idle": "2024-11-20T10:08:24.480914Z",
     "shell.execute_reply": "2024-11-20T10:08:24.479803Z"
    },
    "papermill": {
     "duration": 0.040179,
     "end_time": "2024-11-20T10:08:24.482583",
     "exception": false,
     "start_time": "2024-11-20T10:08:24.442404",
     "status": "completed"
    },
    "tags": []
   },
   "outputs": [
    {
     "name": "stdout",
     "output_type": "stream",
     "text": [
      "CPU times: user 23.6 ms, sys: 0 ns, total: 23.6 ms\n",
      "Wall time: 22.9 ms\n"
     ]
    }
   ],
   "source": [
    "%%time\n",
    "\n",
    "y = train['Depression']\n",
    "X = train.drop(['Depression'], axis = 1)\n",
    "\n",
    "def CAT_(X, y, test, catboost_params, fold=10, seed=0):\n",
    "    SKF = StratifiedKFold(n_splits=fold, shuffle = True, random_state = seed)\n",
    "    train_accuracies = []\n",
    "    valid_accuracies = []\n",
    "    test_predictions = []\n",
    "    oof_predictions = np.zeros(len(X))\n",
    "    \n",
    "    test_pool = Pool(test, cat_features = X.columns.values)\n",
    "    \n",
    "    for fold, (train_idx, val_idx) in enumerate(SKF.split(X, y)):\n",
    "        X_train, X_val = X.iloc[train_idx], X.iloc[val_idx]\n",
    "        y_train, y_val = y.iloc[train_idx], y.iloc[val_idx]\n",
    "        \n",
    "        train_pool = Pool(X_train, y_train, cat_features = X.columns.values)\n",
    "        val_pool = Pool(X_val, y_val, cat_features = X.columns.values)\n",
    "        \n",
    "        model = CatBoostClassifier(**catboost_params, random_state = seed, verbose = 0)\n",
    "        model.fit(train_pool, eval_set=val_pool, early_stopping_rounds=50)\n",
    "        train_predictions = model.predict(train_pool)\n",
    "        train_accuracy = accuracy_score(y_train, train_predictions)\n",
    "        train_accuracies.append(train_accuracy)\n",
    "        \n",
    "        val_predictions = model.predict(val_pool)\n",
    "        valid_accuracy = accuracy_score(y_val, val_predictions)\n",
    "        valid_accuracies.append(valid_accuracy)\n",
    "        \n",
    "        oof_predictions[val_idx] = model.predict_proba(val_pool)[:,1]\n",
    "        \n",
    "        test_fold_pred = model.predict_proba(test_pool)[:,1]\n",
    "        test_predictions.append(test_fold_pred)\n",
    "        \n",
    "        print(f'Fold {fold + 1} Train Accuracy: {train_accuracy:.7f}, Valid Accuracy: {valid_accuracy:.7f}')\n",
    "    \n",
    "    overall_train_accuracy = np.mean(train_accuracies)\n",
    "    overall_valid_accuracy = np.mean(valid_accuracies)\n",
    "    \n",
    "    print(f'Overall Train Accuracy: {overall_train_accuracy:.7f}')\n",
    "    print(f'Overall Valid Accuracy: {overall_valid_accuracy:.7f}')\n",
    "    print(f'Gap Between Train-Valid : {abs(overall_train_accuracy - overall_valid_accuracy):.7f}')\n",
    "    mean_oof_preds = np.mean(oof_predictions)\n",
    "    mean_test_preds = np.mean(test_predictions, axis=0)\n",
    "    \n",
    "    return mean_oof_preds, mean_test_preds"
   ]
  },
  {
   "cell_type": "markdown",
   "id": "72efb014",
   "metadata": {
    "papermill": {
     "duration": 0.006228,
     "end_time": "2024-11-20T10:08:24.495183",
     "exception": false,
     "start_time": "2024-11-20T10:08:24.488955",
     "status": "completed"
    },
    "tags": []
   },
   "source": [
    "# Train"
   ]
  },
  {
   "cell_type": "code",
   "execution_count": 21,
   "id": "4d310b54",
   "metadata": {
    "execution": {
     "iopub.execute_input": "2024-11-20T10:08:24.508429Z",
     "iopub.status.busy": "2024-11-20T10:08:24.508134Z",
     "iopub.status.idle": "2024-11-20T10:11:41.250710Z",
     "shell.execute_reply": "2024-11-20T10:11:41.249840Z"
    },
    "papermill": {
     "duration": 196.758589,
     "end_time": "2024-11-20T10:11:41.259926",
     "exception": false,
     "start_time": "2024-11-20T10:08:24.501337",
     "status": "completed"
    },
    "tags": []
   },
   "outputs": [
    {
     "name": "stderr",
     "output_type": "stream",
     "text": [
      "Default metric period is 5 because AUC is/are not implemented for GPU\n"
     ]
    },
    {
     "name": "stdout",
     "output_type": "stream",
     "text": [
      "Fold 1 Train Accuracy: 0.9445203, Valid Accuracy: 0.9367583\n"
     ]
    },
    {
     "name": "stderr",
     "output_type": "stream",
     "text": [
      "Default metric period is 5 because AUC is/are not implemented for GPU\n"
     ]
    },
    {
     "name": "stdout",
     "output_type": "stream",
     "text": [
      "Fold 2 Train Accuracy: 0.9454433, Valid Accuracy: 0.9437387\n"
     ]
    },
    {
     "name": "stderr",
     "output_type": "stream",
     "text": [
      "Default metric period is 5 because AUC is/are not implemented for GPU\n"
     ]
    },
    {
     "name": "stdout",
     "output_type": "stream",
     "text": [
      "Fold 3 Train Accuracy: 0.9463197, Valid Accuracy: 0.9397599\n"
     ]
    },
    {
     "name": "stderr",
     "output_type": "stream",
     "text": [
      "Default metric period is 5 because AUC is/are not implemented for GPU\n"
     ]
    },
    {
     "name": "stdout",
     "output_type": "stream",
     "text": [
      "Fold 4 Train Accuracy: 0.9447917, Valid Accuracy: 0.9422728\n"
     ]
    },
    {
     "name": "stderr",
     "output_type": "stream",
     "text": [
      "Default metric period is 5 because AUC is/are not implemented for GPU\n"
     ]
    },
    {
     "name": "stdout",
     "output_type": "stream",
     "text": [
      "Fold 5 Train Accuracy: 0.9459086, Valid Accuracy: 0.9427614\n"
     ]
    },
    {
     "name": "stderr",
     "output_type": "stream",
     "text": [
      "Default metric period is 5 because AUC is/are not implemented for GPU\n"
     ]
    },
    {
     "name": "stdout",
     "output_type": "stream",
     "text": [
      "Fold 6 Train Accuracy: 0.9447142, Valid Accuracy: 0.9411559\n"
     ]
    },
    {
     "name": "stderr",
     "output_type": "stream",
     "text": [
      "Default metric period is 5 because AUC is/are not implemented for GPU\n"
     ]
    },
    {
     "name": "stdout",
     "output_type": "stream",
     "text": [
      "Fold 7 Train Accuracy: 0.9440166, Valid Accuracy: 0.9424084\n"
     ]
    },
    {
     "name": "stderr",
     "output_type": "stream",
     "text": [
      "Default metric period is 5 because AUC is/are not implemented for GPU\n"
     ]
    },
    {
     "name": "stdout",
     "output_type": "stream",
     "text": [
      "Fold 8 Train Accuracy: 0.9462813, Valid Accuracy: 0.9405236\n"
     ]
    },
    {
     "name": "stderr",
     "output_type": "stream",
     "text": [
      "Default metric period is 5 because AUC is/are not implemented for GPU\n"
     ]
    },
    {
     "name": "stdout",
     "output_type": "stream",
     "text": [
      "Fold 9 Train Accuracy: 0.9462581, Valid Accuracy: 0.9396161\n"
     ]
    },
    {
     "name": "stderr",
     "output_type": "stream",
     "text": [
      "Default metric period is 5 because AUC is/are not implemented for GPU\n"
     ]
    },
    {
     "name": "stdout",
     "output_type": "stream",
     "text": [
      "Fold 10 Train Accuracy: 0.9437916, Valid Accuracy: 0.9393368\n",
      "Overall Train Accuracy: 0.9452045\n",
      "Overall Valid Accuracy: 0.9408332\n",
      "Gap Between Train-Valid : 0.0043714\n",
      "CPU times: user 8min 1s, sys: 44.5 s, total: 8min 46s\n",
      "Wall time: 3min 16s\n"
     ]
    }
   ],
   "source": [
    "%%time\n",
    "Params4 = {\n",
    "    'loss_function': 'Logloss',\n",
    "    'eval_metric': 'AUC',\n",
    "    'learning_rate': 0.08114394459649094,\n",
    "    'iterations': 1000,\n",
    "    'depth': 6,\n",
    "    'random_strength':0,\n",
    "    'l2_leaf_reg': 0.7047064221215757,\n",
    "    'task_type': 'GPU'} # LB : 0.94381\n",
    "\n",
    "meanOFF, meanTest = CAT_(X, y, test, Params4, fold=10, seed = 0)"
   ]
  },
  {
   "cell_type": "markdown",
   "id": "c33f44c2",
   "metadata": {
    "papermill": {
     "duration": 0.006854,
     "end_time": "2024-11-20T10:11:41.273873",
     "exception": false,
     "start_time": "2024-11-20T10:11:41.267019",
     "status": "completed"
    },
    "tags": []
   },
   "source": [
    "## Finding Best \n",
    "**[1] original 합치기 + Degree 카테고리 정리 + clean columns + remove_noise + Catboost (기본 파라미터)**\n",
    "\n",
    "- Overall Train Accuracy: 0.9450541\n",
    "- Overall Valid Accuracy: 0.9406308\n",
    "- Gap Between Train-Valid : 0.0044233\n",
    "\n",
    "**[2] (No original) + Degree 카테고리 정리 + clean columns + remove_noise + Catboost (기본 파라미터)**\n",
    "\n",
    "- Overall Train Accuracy: 0.9447374\n",
    "- Overall Valid Accuracy: 0.9400355\n",
    "- Gap Between Train-Valid : 0.0047019\n",
    "\n",
    "**[3] original 합치기 + Degree 카테고리 정리 + (나이대 + 나이대별 통계) + clean columns + remove_noise + Catboost (기본 파라미터)**\n",
    "\n",
    "- Overall Train Accuracy: 0.9455993\n",
    "- Overall Valid Accuracy: 0.9404632\n",
    "- Gap Between Train-Valid : 0.0051361\n",
    "\n",
    "**[4] original 합치기 + Degree 카테고리 정리 + 나이대 + 나이대별 통계 + (직업 Student 정리) + clean columns + remove_noise + Catboost (기본 파라미터)**\n",
    "\n",
    "- Overall Train Accuracy: 0.9453643\n",
    "- Overall Valid Accuracy: 0.9404911\n",
    "- Gap Between Train-Valid : 0.0048732\n",
    "\n",
    "**[5] original 합치기 + Degree 카테고리 정리 + 나이대 + 나이대별 통계 + (Null 처리) + clean columns + remove_noise + Catboost (기본 파라미터)**\n",
    "\n",
    "- Overall Train Accuracy: 0.9460073\n",
    "- Overall Valid Accuracy: 0.9405958\n",
    "- Gap Between Train-Valid : 0.0054115\n",
    "\n",
    "**[6] original 합치기 + Degree 카테고리 정리 + 나이대 + 나이대별 통계 + (Null 처리 with 'train avg') + clean columns + remove_noise + Catboost (기본 파라미터)**\n",
    "\n",
    "- Overall Train Accuracy: 0.9456428\n",
    "- Overall Valid Accuracy: 0.9406866\n",
    "- Gap Between Train-Valid : 0.0049562"
   ]
  },
  {
   "cell_type": "code",
   "execution_count": 22,
   "id": "0c5d9857",
   "metadata": {
    "execution": {
     "iopub.execute_input": "2024-11-20T10:11:41.288926Z",
     "iopub.status.busy": "2024-11-20T10:11:41.288632Z",
     "iopub.status.idle": "2024-11-20T10:11:41.292533Z",
     "shell.execute_reply": "2024-11-20T10:11:41.291659Z"
    },
    "papermill": {
     "duration": 0.013277,
     "end_time": "2024-11-20T10:11:41.294156",
     "exception": false,
     "start_time": "2024-11-20T10:11:41.280879",
     "status": "completed"
    },
    "tags": []
   },
   "outputs": [],
   "source": [
    "# my_Params1 = {\n",
    "#     'loss_function': 'Logloss',\n",
    "#     'eval_metric': 'AUC',\n",
    "#     'learning_rate': 0.07788937579814562,\n",
    "#     'iterations': 1744,\n",
    "#     'depth': 4,\n",
    "#     'random_strength':100,\n",
    "#     'l2_leaf_reg': 0.007488708299233241,\n",
    "#     'task_type': 'GPU'} # LB : 0.94381\n",
    "\n",
    "\n",
    "# meanOFF, meanTest = CAT_(X, y, test, my_Params1, fold=10, seed = 0)"
   ]
  },
  {
   "cell_type": "code",
   "execution_count": 23,
   "id": "7b0757ab",
   "metadata": {
    "execution": {
     "iopub.execute_input": "2024-11-20T10:11:41.309047Z",
     "iopub.status.busy": "2024-11-20T10:11:41.308817Z",
     "iopub.status.idle": "2024-11-20T10:11:41.415242Z",
     "shell.execute_reply": "2024-11-20T10:11:41.414357Z"
    },
    "papermill": {
     "duration": 0.116102,
     "end_time": "2024-11-20T10:11:41.417169",
     "exception": false,
     "start_time": "2024-11-20T10:11:41.301067",
     "status": "completed"
    },
    "tags": []
   },
   "outputs": [
    {
     "data": {
      "text/plain": [
       "0"
      ]
     },
     "execution_count": 23,
     "metadata": {},
     "output_type": "execute_result"
    }
   ],
   "source": [
    "import gc\n",
    "gc.collect()"
   ]
  },
  {
   "cell_type": "markdown",
   "id": "f072face",
   "metadata": {
    "papermill": {
     "duration": 0.006999,
     "end_time": "2024-11-20T10:11:41.431457",
     "exception": false,
     "start_time": "2024-11-20T10:11:41.424458",
     "status": "completed"
    },
    "tags": []
   },
   "source": [
    "# Submit"
   ]
  },
  {
   "cell_type": "code",
   "execution_count": 24,
   "id": "1e18b658",
   "metadata": {
    "execution": {
     "iopub.execute_input": "2024-11-20T10:11:41.446723Z",
     "iopub.status.busy": "2024-11-20T10:11:41.446477Z",
     "iopub.status.idle": "2024-11-20T10:11:41.450011Z",
     "shell.execute_reply": "2024-11-20T10:11:41.449204Z"
    },
    "papermill": {
     "duration": 0.012988,
     "end_time": "2024-11-20T10:11:41.451652",
     "exception": false,
     "start_time": "2024-11-20T10:11:41.438664",
     "status": "completed"
    },
    "tags": []
   },
   "outputs": [],
   "source": [
    "# %%time\n",
    "\n",
    "# sample['Depression'] = np.round(meanTest)\n",
    "\n",
    "# sample.to_csv('submission.csv', index=False)\n",
    "\n",
    "# sample.head()"
   ]
  },
  {
   "cell_type": "markdown",
   "id": "2b2f8439",
   "metadata": {
    "papermill": {
     "duration": 0.006834,
     "end_time": "2024-11-20T10:11:41.465788",
     "exception": false,
     "start_time": "2024-11-20T10:11:41.458954",
     "status": "completed"
    },
    "tags": []
   },
   "source": [
    "# Optuna HPO"
   ]
  },
  {
   "cell_type": "code",
   "execution_count": 25,
   "id": "bd48c08d",
   "metadata": {
    "execution": {
     "iopub.execute_input": "2024-11-20T10:11:41.481340Z",
     "iopub.status.busy": "2024-11-20T10:11:41.481084Z",
     "iopub.status.idle": "2024-11-20T10:11:41.486356Z",
     "shell.execute_reply": "2024-11-20T10:11:41.485556Z"
    },
    "papermill": {
     "duration": 0.015065,
     "end_time": "2024-11-20T10:11:41.487888",
     "exception": false,
     "start_time": "2024-11-20T10:11:41.472823",
     "status": "completed"
    },
    "tags": []
   },
   "outputs": [],
   "source": [
    "# import optuna\n",
    "# from optuna.samplers import TPESampler\n",
    "# from sklearn.model_selection import StratifiedKFold\n",
    "# from sklearn.metrics import accuracy_score\n",
    "# from catboost import CatBoostClassifier, Pool\n",
    "# import numpy as np\n",
    "\n",
    "\n",
    "# y = train['Depression']\n",
    "# X = train.drop(['Depression'], axis = 1)\n",
    "\n",
    "# # 주어진 하이퍼파라미터 Params4를 기준으로 범위 재설정\n",
    "# def objective(trial):\n",
    "#     # Optuna에서 튜닝할 하이퍼파라미터 범위 정의\n",
    "# #     catboost_params = {\n",
    "# #         'loss_function': 'Logloss',\n",
    "# #         'eval_metric': 'AUC',\n",
    "# #         'learning_rate': trial.suggest_loguniform('learning_rate', 1e-5, 1e-1),  # 학습률 범위\n",
    "# #         'iterations': trial.suggest_int('iterations', 500, 2000),  # 반복 횟수\n",
    "# #         'depth': trial.suggest_int('depth', 4, 12),  # 트리 깊이 범위\n",
    "# #         'random_strength': trial.suggest_int('random_strength', 0, 100),  # 랜덤 강도\n",
    "# #         'l2_leaf_reg': trial.suggest_loguniform('l2_leaf_reg', 1e-5, 1e2),  # L2 정규화\n",
    "# #         'task_type': 'GPU',\n",
    "# #         'random_state': 0,\n",
    "# #         'verbose': 0\n",
    "# #     }\n",
    "\n",
    "#     catboost_params = {\n",
    "#         'loss_function': 'Logloss',\n",
    "#         'eval_metric': 'AUC',\n",
    "#         'learning_rate': trial.suggest_loguniform('learning_rate', 1e-3, 1e-1),  # 좁힌 학습률 범위\n",
    "#         'iterations': trial.suggest_int('iterations', 900, 2000),  # 1000에서 2000 사이\n",
    "#         'depth': trial.suggest_int('depth', 3, 8),  # 깊이는 4에서 6 사이로 제한\n",
    "#         'random_strength': trial.suggest_int('random_strength', 0, 100),  # 랜덤 강도 범위\n",
    "#         'l2_leaf_reg': trial.suggest_loguniform('l2_leaf_reg', 1e-5, 1e1),  # L2 정규화 범위 좁힘\n",
    "#         'task_type': 'GPU',\n",
    "#         'random_state': 0,\n",
    "#         'verbose': 0\n",
    "#     }\n",
    "    \n",
    "#     # Stratified KFold 설정\n",
    "#     fold = 10\n",
    "#     SKF = StratifiedKFold(n_splits=fold, shuffle=True, random_state=0)\n",
    "#     train_accuracies = []\n",
    "#     valid_accuracies = []\n",
    "    \n",
    "#     oof_predictions = np.zeros(len(X))  # Out of fold 예측값\n",
    "    \n",
    "#     for fold_idx, (train_idx, val_idx) in enumerate(SKF.split(X, y)):\n",
    "# #         print(f\"\\n--- Fold {fold_idx + 1} ---\")  # 각 fold마다 시작 로그\n",
    "        \n",
    "#         X_train, X_val = X.iloc[train_idx], X.iloc[val_idx]\n",
    "#         y_train, y_val = y.iloc[train_idx], y.iloc[val_idx]\n",
    "        \n",
    "#         train_pool = Pool(X_train, y_train, cat_features=X.columns.values.tolist())\n",
    "#         val_pool = Pool(X_val, y_val, cat_features=X.columns.values.tolist())\n",
    "        \n",
    "#         model = CatBoostClassifier(**catboost_params)\n",
    "#         model.fit(train_pool, eval_set=val_pool, early_stopping_rounds=50)\n",
    "        \n",
    "#         # 훈련 데이터 예측\n",
    "#         train_predictions = model.predict(train_pool)\n",
    "#         train_accuracy = accuracy_score(y_train, train_predictions)\n",
    "#         train_accuracies.append(train_accuracy)\n",
    "        \n",
    "#         # 검증 데이터 예측\n",
    "#         val_predictions = model.predict(val_pool)\n",
    "#         valid_accuracy = accuracy_score(y_val, val_predictions)\n",
    "#         valid_accuracies.append(valid_accuracy)\n",
    "        \n",
    "#         oof_predictions[val_idx] = model.predict_proba(val_pool)[:, 1]  # OOF 예측값\n",
    "        \n",
    "#         # 각 fold의 결과 출력\n",
    "# #         print(f\"Train Accuracy for Fold {fold_idx + 1}: {train_accuracy:.3f}\")\n",
    "# #         print(f\"Validation Accuracy for Fold {fold_idx + 1}: {valid_accuracy:.3f}\")\n",
    "        \n",
    "#     overall_train_accuracy = np.mean(train_accuracies)\n",
    "#     overall_valid_accuracy = np.mean(valid_accuracies)\n",
    "    \n",
    "#     print(f\"\\nOverall Train Accuracy: {overall_train_accuracy:.3f}\")\n",
    "#     print(f\"Overall Validation Accuracy: {overall_valid_accuracy:.3f}\")\n",
    "    \n",
    "#     # 최적화할 값 반환 (validation accuracy를 최대로)\n",
    "#     return overall_valid_accuracy  # Valid accuracy를 반환해서 최적화"
   ]
  },
  {
   "cell_type": "code",
   "execution_count": 26,
   "id": "7da7c8ea",
   "metadata": {
    "execution": {
     "iopub.execute_input": "2024-11-20T10:11:41.502808Z",
     "iopub.status.busy": "2024-11-20T10:11:41.502312Z",
     "iopub.status.idle": "2024-11-20T10:11:41.505526Z",
     "shell.execute_reply": "2024-11-20T10:11:41.504877Z"
    },
    "papermill": {
     "duration": 0.012306,
     "end_time": "2024-11-20T10:11:41.507046",
     "exception": false,
     "start_time": "2024-11-20T10:11:41.494740",
     "status": "completed"
    },
    "tags": []
   },
   "outputs": [],
   "source": [
    "# %%time\n",
    "# # Optuna로 최적화 수행\n",
    "# study = optuna.create_study(direction='maximize', sampler=TPESampler())\n",
    "# study.optimize(objective, n_trials=30)"
   ]
  },
  {
   "cell_type": "code",
   "execution_count": 27,
   "id": "b1b64cfc",
   "metadata": {
    "execution": {
     "iopub.execute_input": "2024-11-20T10:11:41.523005Z",
     "iopub.status.busy": "2024-11-20T10:11:41.522485Z",
     "iopub.status.idle": "2024-11-20T10:11:41.525702Z",
     "shell.execute_reply": "2024-11-20T10:11:41.525065Z"
    },
    "papermill": {
     "duration": 0.012735,
     "end_time": "2024-11-20T10:11:41.527193",
     "exception": false,
     "start_time": "2024-11-20T10:11:41.514458",
     "status": "completed"
    },
    "tags": []
   },
   "outputs": [],
   "source": [
    "# # 최적 하이퍼파라미터 출력\n",
    "# print(f\"Best parameters: {study.best_params}\")\n",
    "# print(f\"Best validation accuracy: {study.best_value:.9f}\")"
   ]
  },
  {
   "cell_type": "code",
   "execution_count": 28,
   "id": "0dea553f",
   "metadata": {
    "execution": {
     "iopub.execute_input": "2024-11-20T10:11:41.542332Z",
     "iopub.status.busy": "2024-11-20T10:11:41.541751Z",
     "iopub.status.idle": "2024-11-20T10:11:41.545498Z",
     "shell.execute_reply": "2024-11-20T10:11:41.544832Z"
    },
    "papermill": {
     "duration": 0.012894,
     "end_time": "2024-11-20T10:11:41.547032",
     "exception": false,
     "start_time": "2024-11-20T10:11:41.534138",
     "status": "completed"
    },
    "tags": []
   },
   "outputs": [],
   "source": [
    "# # 최적화된 파라미터로 최종 모델 학습\n",
    "# final_catboost_params = study.best_params\n",
    "\n",
    "# final_catboost_params.update({\n",
    "#     'loss_function': 'Logloss',\n",
    "#     'eval_metric': 'AUC',\n",
    "#     'task_type': 'GPU'\n",
    "# })\n",
    "\n",
    "# # # 최종 모델 훈련 및 예측 (교차 검증을 통해 예측 수행)\n",
    "# # fold = 10\n",
    "# # SKF = StratifiedKFold(n_splits=fold, shuffle=True, random_state=0)\n",
    "# # test_predictions = []\n",
    "\n",
    "# # for train_idx, val_idx in SKF.split(X, y):\n",
    "# #     X_train, X_val = X.iloc[train_idx], X.iloc[val_idx]\n",
    "# #     y_train, y_val = y.iloc[train_idx], y.iloc[val_idx]\n",
    "    \n",
    "# #     train_pool = Pool(X_train, y_train, cat_features=X.columns.values.tolist())\n",
    "# #     test_pool = Pool(test, cat_features=X.columns.values.tolist())\n",
    "    \n",
    "# #     model = CatBoostClassifier(**final_catboost_params)\n",
    "# #     model.fit(train_pool, eval_set=(train_pool, y_train), early_stopping_rounds=50)\n",
    "    \n",
    "# #     # 테스트 데이터 예측\n",
    "# #     test_fold_pred = model.predict_proba(test_pool)[:, 1]\n",
    "# #     test_predictions.append(test_fold_pred)\n",
    "\n",
    "# meanOFF, meanTest = CAT_(X, y, test, final_catboost_params, fold=10, seed = 0)"
   ]
  },
  {
   "cell_type": "code",
   "execution_count": 29,
   "id": "e1e5cd37",
   "metadata": {
    "execution": {
     "iopub.execute_input": "2024-11-20T10:11:41.562480Z",
     "iopub.status.busy": "2024-11-20T10:11:41.562256Z",
     "iopub.status.idle": "2024-11-20T10:11:41.656896Z",
     "shell.execute_reply": "2024-11-20T10:11:41.655734Z"
    },
    "papermill": {
     "duration": 0.104445,
     "end_time": "2024-11-20T10:11:41.658483",
     "exception": false,
     "start_time": "2024-11-20T10:11:41.554038",
     "status": "completed"
    },
    "tags": []
   },
   "outputs": [
    {
     "data": {
      "text/html": [
       "<div>\n",
       "<style scoped>\n",
       "    .dataframe tbody tr th:only-of-type {\n",
       "        vertical-align: middle;\n",
       "    }\n",
       "\n",
       "    .dataframe tbody tr th {\n",
       "        vertical-align: top;\n",
       "    }\n",
       "\n",
       "    .dataframe thead th {\n",
       "        text-align: right;\n",
       "    }\n",
       "</style>\n",
       "<table border=\"1\" class=\"dataframe\">\n",
       "  <thead>\n",
       "    <tr style=\"text-align: right;\">\n",
       "      <th></th>\n",
       "      <th>id</th>\n",
       "      <th>Depression</th>\n",
       "    </tr>\n",
       "  </thead>\n",
       "  <tbody>\n",
       "    <tr>\n",
       "      <th>0</th>\n",
       "      <td>140700</td>\n",
       "      <td>0.0</td>\n",
       "    </tr>\n",
       "    <tr>\n",
       "      <th>1</th>\n",
       "      <td>140701</td>\n",
       "      <td>0.0</td>\n",
       "    </tr>\n",
       "    <tr>\n",
       "      <th>2</th>\n",
       "      <td>140702</td>\n",
       "      <td>0.0</td>\n",
       "    </tr>\n",
       "    <tr>\n",
       "      <th>3</th>\n",
       "      <td>140703</td>\n",
       "      <td>1.0</td>\n",
       "    </tr>\n",
       "    <tr>\n",
       "      <th>4</th>\n",
       "      <td>140704</td>\n",
       "      <td>0.0</td>\n",
       "    </tr>\n",
       "  </tbody>\n",
       "</table>\n",
       "</div>"
      ],
      "text/plain": [
       "       id  Depression\n",
       "0  140700         0.0\n",
       "1  140701         0.0\n",
       "2  140702         0.0\n",
       "3  140703         1.0\n",
       "4  140704         0.0"
      ]
     },
     "execution_count": 29,
     "metadata": {},
     "output_type": "execute_result"
    }
   ],
   "source": [
    "# 결과를 'submission.csv'로 저장\n",
    "sample['Depression'] = np.round(meanTest)  # 예측 결과 반올림하여 저장\n",
    "\n",
    "# 결과 파일 저장\n",
    "sample.to_csv('submission.csv', index=False)\n",
    "\n",
    "# 제출 파일 확인\n",
    "sample.head()"
   ]
  },
  {
   "cell_type": "code",
   "execution_count": null,
   "id": "111f3d87",
   "metadata": {
    "papermill": {
     "duration": 0.007661,
     "end_time": "2024-11-20T10:11:41.674017",
     "exception": false,
     "start_time": "2024-11-20T10:11:41.666356",
     "status": "completed"
    },
    "tags": []
   },
   "outputs": [],
   "source": []
  }
 ],
 "metadata": {
  "kaggle": {
   "accelerator": "nvidiaTeslaT4",
   "dataSources": [
    {
     "databundleVersionId": 10008389,
     "sourceId": 84895,
     "sourceType": "competition"
    },
    {
     "datasetId": 5868381,
     "sourceId": 9616093,
     "sourceType": "datasetVersion"
    }
   ],
   "dockerImageVersionId": 30787,
   "isGpuEnabled": true,
   "isInternetEnabled": true,
   "language": "python",
   "sourceType": "notebook"
  },
  "kernelspec": {
   "display_name": ".venv",
   "language": "python",
   "name": "python3"
  },
  "language_info": {
   "codemirror_mode": {
    "name": "ipython",
    "version": 3
   },
   "file_extension": ".py",
   "mimetype": "text/x-python",
   "name": "python",
   "nbconvert_exporter": "python",
   "pygments_lexer": "ipython3",
   "version": "3.12.4"
  },
  "papermill": {
   "default_parameters": {},
   "duration": 209.378256,
   "end_time": "2024-11-20T10:11:42.500355",
   "environment_variables": {},
   "exception": null,
   "input_path": "__notebook__.ipynb",
   "output_path": "__notebook__.ipynb",
   "parameters": {},
   "start_time": "2024-11-20T10:08:13.122099",
   "version": "2.6.0"
  }
 },
 "nbformat": 4,
 "nbformat_minor": 5
}
