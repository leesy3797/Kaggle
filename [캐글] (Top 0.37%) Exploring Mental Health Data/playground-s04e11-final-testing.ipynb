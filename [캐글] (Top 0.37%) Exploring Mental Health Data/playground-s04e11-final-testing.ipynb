{
 "cells": [
  {
   "cell_type": "markdown",
   "id": "04571b97",
   "metadata": {
    "papermill": {
     "duration": 0.010669,
     "end_time": "2024-11-15T11:23:14.448290",
     "exception": false,
     "start_time": "2024-11-15T11:23:14.437621",
     "status": "completed"
    },
    "tags": []
   },
   "source": [
    "# Setting"
   ]
  },
  {
   "cell_type": "code",
   "execution_count": 1,
   "id": "827f75da",
   "metadata": {
    "execution": {
     "iopub.execute_input": "2024-11-15T11:23:14.470588Z",
     "iopub.status.busy": "2024-11-15T11:23:14.470215Z",
     "iopub.status.idle": "2024-11-15T11:23:20.780561Z",
     "shell.execute_reply": "2024-11-15T11:23:20.779814Z"
    },
    "papermill": {
     "duration": 6.323369,
     "end_time": "2024-11-15T11:23:20.782737",
     "exception": false,
     "start_time": "2024-11-15T11:23:14.459368",
     "status": "completed"
    },
    "tags": []
   },
   "outputs": [],
   "source": [
    "import numpy as np\n",
    "import polars as pl\n",
    "import pandas as pd\n",
    "from sklearn.base import clone\n",
    "import seaborn as sns\n",
    "import optuna\n",
    "import os\n",
    "import category_encoders as ce\n",
    "from IPython.display import clear_output\n",
    "\n",
    "import warnings\n",
    "warnings.filterwarnings('ignore')\n",
    "pd.options.display.max_columns = None\n",
    "\n",
    "import lightgbm as lgb\n",
    "from catboost import CatBoostRegressor, CatBoostClassifier, Pool\n",
    "from sklearn.model_selection import *\n",
    "from sklearn.metrics import *"
   ]
  },
  {
   "cell_type": "markdown",
   "id": "d28efd92",
   "metadata": {
    "papermill": {
     "duration": 0.010738,
     "end_time": "2024-11-15T11:23:20.803733",
     "exception": false,
     "start_time": "2024-11-15T11:23:20.792995",
     "status": "completed"
    },
    "tags": []
   },
   "source": [
    "# Import Data"
   ]
  },
  {
   "cell_type": "code",
   "execution_count": 2,
   "id": "88128aab",
   "metadata": {
    "execution": {
     "iopub.execute_input": "2024-11-15T11:23:20.831916Z",
     "iopub.status.busy": "2024-11-15T11:23:20.831311Z",
     "iopub.status.idle": "2024-11-15T11:23:21.986510Z",
     "shell.execute_reply": "2024-11-15T11:23:21.985538Z"
    },
    "papermill": {
     "duration": 1.174445,
     "end_time": "2024-11-15T11:23:21.989632",
     "exception": false,
     "start_time": "2024-11-15T11:23:20.815187",
     "status": "completed"
    },
    "tags": []
   },
   "outputs": [
    {
     "name": "stdout",
     "output_type": "stream",
     "text": [
      "CPU times: user 657 ms, sys: 107 ms, total: 763 ms\n",
      "Wall time: 1.15 s\n"
     ]
    }
   ],
   "source": [
    "%%time\n",
    "\n",
    "train = pd.read_csv('/kaggle/input/playground-series-s4e11/train.csv')\n",
    "test = pd.read_csv('/kaggle/input/playground-series-s4e11/test.csv')\n",
    "sample = pd.read_csv('/kaggle/input/playground-series-s4e11/sample_submission.csv')\n",
    "# original = pd.read_csv('/kaggle/input/depression-surveydataset-for-analysis/final_depression_dataset_1.csv')\n",
    "\n",
    "# original['Depression'] = original['Depression'].map({'No':0, 'Yes':1})\n",
    "\n",
    "train = train.drop('id', axis = 1)\n",
    "test = test.drop('id', axis = 1)\n",
    "\n",
    "# train = pd.concat(objs = [train, original])"
   ]
  },
  {
   "cell_type": "markdown",
   "id": "ce40feb0",
   "metadata": {
    "papermill": {
     "duration": 0.009903,
     "end_time": "2024-11-15T11:23:22.012715",
     "exception": false,
     "start_time": "2024-11-15T11:23:22.002812",
     "status": "completed"
    },
    "tags": []
   },
   "source": [
    "# Feature Engineering"
   ]
  },
  {
   "cell_type": "code",
   "execution_count": 3,
   "id": "567809c8",
   "metadata": {
    "execution": {
     "iopub.execute_input": "2024-11-15T11:23:22.034414Z",
     "iopub.status.busy": "2024-11-15T11:23:22.033770Z",
     "iopub.status.idle": "2024-11-15T11:23:22.039287Z",
     "shell.execute_reply": "2024-11-15T11:23:22.038402Z"
    },
    "papermill": {
     "duration": 0.018532,
     "end_time": "2024-11-15T11:23:22.041280",
     "exception": false,
     "start_time": "2024-11-15T11:23:22.022748",
     "status": "completed"
    },
    "tags": []
   },
   "outputs": [],
   "source": [
    "def binding_age(df, cols):\n",
    "    bins = [i for i in range(0, 105, 5)]\n",
    "    labels = [f'{i}-{i+4}' for i in range(0, 100, 5)]\n",
    "    df['Age_Bind'] = pd.cut(df[cols], bins=bins, labels=labels)\n",
    "    return df"
   ]
  },
  {
   "cell_type": "code",
   "execution_count": 4,
   "id": "c5283d4c",
   "metadata": {
    "execution": {
     "iopub.execute_input": "2024-11-15T11:23:22.062745Z",
     "iopub.status.busy": "2024-11-15T11:23:22.062418Z",
     "iopub.status.idle": "2024-11-15T11:23:22.069382Z",
     "shell.execute_reply": "2024-11-15T11:23:22.068555Z"
    },
    "papermill": {
     "duration": 0.019597,
     "end_time": "2024-11-15T11:23:22.071199",
     "exception": false,
     "start_time": "2024-11-15T11:23:22.051602",
     "status": "completed"
    },
    "tags": []
   },
   "outputs": [],
   "source": [
    "def age_statistics(train, test):\n",
    "    age_bind_depression = train.groupby('Age_Bind')['Depression'].mean()\n",
    "    age_bind_ratio = train['Age_Bind'].value_counts(normalize = True)\n",
    "    age_bind_depression_cali = pd.merge(age_bind_depression, age_bind_ratio, how = 'inner', left_on = age_bind_depression.index, right_on = age_bind_ratio.index).dropna()\n",
    "    age_bind_depression_cali = age_bind_depression_cali.rename(columns = {\"key_0\":'Age_Bind', \"Depression\" : \"Depression Rate\"})\n",
    "    age_bind_depression_cali['Calibrate Score'] = age_bind_depression_cali['Depression Rate'] * age_bind_depression_cali['proportion']\n",
    "    \n",
    "    for col in age_bind_depression_cali.columns:\n",
    "        age_bind_depression_cali[col] = age_bind_depression_cali[col].astype('str')\n",
    "    \n",
    "    train = pd.merge(train, age_bind_depression_cali, how = 'left', on = 'Age_Bind')\n",
    "    test = pd.merge(test, age_bind_depression_cali, how = 'left', on = 'Age_Bind')\n",
    "    return train, test"
   ]
  },
  {
   "cell_type": "code",
   "execution_count": 5,
   "id": "f2f61782",
   "metadata": {
    "execution": {
     "iopub.execute_input": "2024-11-15T11:23:22.092049Z",
     "iopub.status.busy": "2024-11-15T11:23:22.091788Z",
     "iopub.status.idle": "2024-11-15T11:23:22.337328Z",
     "shell.execute_reply": "2024-11-15T11:23:22.336541Z"
    },
    "papermill": {
     "duration": 0.258437,
     "end_time": "2024-11-15T11:23:22.339586",
     "exception": false,
     "start_time": "2024-11-15T11:23:22.081149",
     "status": "completed"
    },
    "tags": []
   },
   "outputs": [],
   "source": [
    "train = binding_age(train, 'Age')\n",
    "test = binding_age(test, 'Age')\n",
    "train, test = age_statistics(train, test)"
   ]
  },
  {
   "cell_type": "code",
   "execution_count": 6,
   "id": "cf597fec",
   "metadata": {
    "execution": {
     "iopub.execute_input": "2024-11-15T11:23:22.361527Z",
     "iopub.status.busy": "2024-11-15T11:23:22.361188Z",
     "iopub.status.idle": "2024-11-15T11:23:22.407505Z",
     "shell.execute_reply": "2024-11-15T11:23:22.406633Z"
    },
    "papermill": {
     "duration": 0.059193,
     "end_time": "2024-11-15T11:23:22.409360",
     "exception": false,
     "start_time": "2024-11-15T11:23:22.350167",
     "status": "completed"
    },
    "tags": []
   },
   "outputs": [],
   "source": [
    "def cleaning_student(train, test):\n",
    "    # 'Working Professional or Student' 열에서 'Student'인 경우 Profession을 'Student'로 설정\n",
    "    train.loc[train['Working Professional or Student'] == 'Student', 'Profession'] = \"Student\"\n",
    "    test.loc[test['Working Professional or Student'] == 'Student', 'Profession'] = \"Student\"\n",
    "    return train, test\n",
    "\n",
    "train, test = cleaning_student(train, test)"
   ]
  },
  {
   "cell_type": "markdown",
   "id": "4468c359",
   "metadata": {
    "papermill": {
     "duration": 0.010166,
     "end_time": "2024-11-15T11:23:22.429683",
     "exception": false,
     "start_time": "2024-11-15T11:23:22.419517",
     "status": "completed"
    },
    "tags": []
   },
   "source": [
    "# Null Checking"
   ]
  },
  {
   "cell_type": "code",
   "execution_count": 7,
   "id": "eb0f2444",
   "metadata": {
    "execution": {
     "iopub.execute_input": "2024-11-15T11:23:22.450811Z",
     "iopub.status.busy": "2024-11-15T11:23:22.450458Z",
     "iopub.status.idle": "2024-11-15T11:23:22.462757Z",
     "shell.execute_reply": "2024-11-15T11:23:22.461902Z"
    },
    "papermill": {
     "duration": 0.024917,
     "end_time": "2024-11-15T11:23:22.464668",
     "exception": false,
     "start_time": "2024-11-15T11:23:22.439751",
     "status": "completed"
    },
    "tags": []
   },
   "outputs": [
    {
     "data": {
      "text/plain": [
       "Academic Pressure     0.801727\n",
       "Work Pressure         0.198422\n",
       "Study Satisfaction    0.801727\n",
       "Job Satisfaction      0.198365\n",
       "Financial Stress      0.000028\n",
       "dtype: float64"
      ]
     },
     "execution_count": 7,
     "metadata": {},
     "output_type": "execute_result"
    }
   ],
   "source": [
    "# for col in train.columns:\n",
    "#     if train[col].nunique() == 5:\n",
    "#         print(f\"Number of {col} ===> [{train[col].nunique()}]\")\n",
    "        \n",
    "train[['Academic Pressure', 'Work Pressure', 'Study Satisfaction', 'Job Satisfaction', 'Financial Stress']].isna().sum() / train.shape[0]"
   ]
  },
  {
   "cell_type": "markdown",
   "id": "f47211c1",
   "metadata": {
    "papermill": {
     "duration": 0.01,
     "end_time": "2024-11-15T11:23:22.485231",
     "exception": false,
     "start_time": "2024-11-15T11:23:22.475231",
     "status": "completed"
    },
    "tags": []
   },
   "source": [
    "### [Null] 'Academic Pressure', 'Work Pressure', 'Study Satisfaction', 'Job Satisfaction'"
   ]
  },
  {
   "cell_type": "code",
   "execution_count": 8,
   "id": "f92cec3e",
   "metadata": {
    "execution": {
     "iopub.execute_input": "2024-11-15T11:23:22.507158Z",
     "iopub.status.busy": "2024-11-15T11:23:22.506868Z",
     "iopub.status.idle": "2024-11-15T11:23:22.803465Z",
     "shell.execute_reply": "2024-11-15T11:23:22.802517Z"
    },
    "papermill": {
     "duration": 0.310173,
     "end_time": "2024-11-15T11:23:22.805618",
     "exception": false,
     "start_time": "2024-11-15T11:23:22.495445",
     "status": "completed"
    },
    "tags": []
   },
   "outputs": [
    {
     "name": "stdout",
     "output_type": "stream",
     "text": [
      "Statistics for Academic Pressure:\n",
      "Not Null Data Statistics:\n"
     ]
    },
    {
     "data": {
      "text/html": [
       "<div>\n",
       "<style scoped>\n",
       "    .dataframe tbody tr th:only-of-type {\n",
       "        vertical-align: middle;\n",
       "    }\n",
       "\n",
       "    .dataframe tbody tr th {\n",
       "        vertical-align: top;\n",
       "    }\n",
       "\n",
       "    .dataframe thead th {\n",
       "        text-align: right;\n",
       "    }\n",
       "</style>\n",
       "<table border=\"1\" class=\"dataframe\">\n",
       "  <thead>\n",
       "    <tr style=\"text-align: right;\">\n",
       "      <th></th>\n",
       "      <th>mean</th>\n",
       "      <th>size</th>\n",
       "    </tr>\n",
       "    <tr>\n",
       "      <th>Working Professional or Student</th>\n",
       "      <th></th>\n",
       "      <th></th>\n",
       "    </tr>\n",
       "  </thead>\n",
       "  <tbody>\n",
       "    <tr>\n",
       "      <th>Student</th>\n",
       "      <td>3.142227</td>\n",
       "      <td>27892</td>\n",
       "    </tr>\n",
       "    <tr>\n",
       "      <th>Working Professional</th>\n",
       "      <td>3.400000</td>\n",
       "      <td>5</td>\n",
       "    </tr>\n",
       "  </tbody>\n",
       "</table>\n",
       "</div>"
      ],
      "text/plain": [
       "                                     mean   size\n",
       "Working Professional or Student                 \n",
       "Student                          3.142227  27892\n",
       "Working Professional             3.400000      5"
      ]
     },
     "metadata": {},
     "output_type": "display_data"
    },
    {
     "name": "stdout",
     "output_type": "stream",
     "text": [
      "\n",
      "Null Data Statistics:\n"
     ]
    },
    {
     "data": {
      "text/html": [
       "<div>\n",
       "<style scoped>\n",
       "    .dataframe tbody tr th:only-of-type {\n",
       "        vertical-align: middle;\n",
       "    }\n",
       "\n",
       "    .dataframe tbody tr th {\n",
       "        vertical-align: top;\n",
       "    }\n",
       "\n",
       "    .dataframe thead th {\n",
       "        text-align: right;\n",
       "    }\n",
       "</style>\n",
       "<table border=\"1\" class=\"dataframe\">\n",
       "  <thead>\n",
       "    <tr style=\"text-align: right;\">\n",
       "      <th></th>\n",
       "      <th>mean</th>\n",
       "      <th>size</th>\n",
       "    </tr>\n",
       "    <tr>\n",
       "      <th>Working Professional or Student</th>\n",
       "      <th></th>\n",
       "      <th></th>\n",
       "    </tr>\n",
       "  </thead>\n",
       "  <tbody>\n",
       "    <tr>\n",
       "      <th>Student</th>\n",
       "      <td>NaN</td>\n",
       "      <td>9</td>\n",
       "    </tr>\n",
       "    <tr>\n",
       "      <th>Working Professional</th>\n",
       "      <td>NaN</td>\n",
       "      <td>112794</td>\n",
       "    </tr>\n",
       "  </tbody>\n",
       "</table>\n",
       "</div>"
      ],
      "text/plain": [
       "                                 mean    size\n",
       "Working Professional or Student              \n",
       "Student                           NaN       9\n",
       "Working Professional              NaN  112794"
      ]
     },
     "metadata": {},
     "output_type": "display_data"
    },
    {
     "name": "stdout",
     "output_type": "stream",
     "text": [
      "\n",
      "\n",
      "Statistics for Work Pressure:\n",
      "Not Null Data Statistics:\n"
     ]
    },
    {
     "data": {
      "text/html": [
       "<div>\n",
       "<style scoped>\n",
       "    .dataframe tbody tr th:only-of-type {\n",
       "        vertical-align: middle;\n",
       "    }\n",
       "\n",
       "    .dataframe tbody tr th {\n",
       "        vertical-align: top;\n",
       "    }\n",
       "\n",
       "    .dataframe thead th {\n",
       "        text-align: right;\n",
       "    }\n",
       "</style>\n",
       "<table border=\"1\" class=\"dataframe\">\n",
       "  <thead>\n",
       "    <tr style=\"text-align: right;\">\n",
       "      <th></th>\n",
       "      <th>mean</th>\n",
       "      <th>size</th>\n",
       "    </tr>\n",
       "    <tr>\n",
       "      <th>Working Professional or Student</th>\n",
       "      <th></th>\n",
       "      <th></th>\n",
       "    </tr>\n",
       "  </thead>\n",
       "  <tbody>\n",
       "    <tr>\n",
       "      <th>Student</th>\n",
       "      <td>4.000000</td>\n",
       "      <td>3</td>\n",
       "    </tr>\n",
       "    <tr>\n",
       "      <th>Working Professional</th>\n",
       "      <td>2.998971</td>\n",
       "      <td>112779</td>\n",
       "    </tr>\n",
       "  </tbody>\n",
       "</table>\n",
       "</div>"
      ],
      "text/plain": [
       "                                     mean    size\n",
       "Working Professional or Student                  \n",
       "Student                          4.000000       3\n",
       "Working Professional             2.998971  112779"
      ]
     },
     "metadata": {},
     "output_type": "display_data"
    },
    {
     "name": "stdout",
     "output_type": "stream",
     "text": [
      "\n",
      "Null Data Statistics:\n"
     ]
    },
    {
     "data": {
      "text/html": [
       "<div>\n",
       "<style scoped>\n",
       "    .dataframe tbody tr th:only-of-type {\n",
       "        vertical-align: middle;\n",
       "    }\n",
       "\n",
       "    .dataframe tbody tr th {\n",
       "        vertical-align: top;\n",
       "    }\n",
       "\n",
       "    .dataframe thead th {\n",
       "        text-align: right;\n",
       "    }\n",
       "</style>\n",
       "<table border=\"1\" class=\"dataframe\">\n",
       "  <thead>\n",
       "    <tr style=\"text-align: right;\">\n",
       "      <th></th>\n",
       "      <th>mean</th>\n",
       "      <th>size</th>\n",
       "    </tr>\n",
       "    <tr>\n",
       "      <th>Working Professional or Student</th>\n",
       "      <th></th>\n",
       "      <th></th>\n",
       "    </tr>\n",
       "  </thead>\n",
       "  <tbody>\n",
       "    <tr>\n",
       "      <th>Student</th>\n",
       "      <td>NaN</td>\n",
       "      <td>27898</td>\n",
       "    </tr>\n",
       "    <tr>\n",
       "      <th>Working Professional</th>\n",
       "      <td>NaN</td>\n",
       "      <td>20</td>\n",
       "    </tr>\n",
       "  </tbody>\n",
       "</table>\n",
       "</div>"
      ],
      "text/plain": [
       "                                 mean   size\n",
       "Working Professional or Student             \n",
       "Student                           NaN  27898\n",
       "Working Professional              NaN     20"
      ]
     },
     "metadata": {},
     "output_type": "display_data"
    },
    {
     "name": "stdout",
     "output_type": "stream",
     "text": [
      "\n",
      "\n",
      "Statistics for Study Satisfaction:\n",
      "Not Null Data Statistics:\n"
     ]
    },
    {
     "data": {
      "text/html": [
       "<div>\n",
       "<style scoped>\n",
       "    .dataframe tbody tr th:only-of-type {\n",
       "        vertical-align: middle;\n",
       "    }\n",
       "\n",
       "    .dataframe tbody tr th {\n",
       "        vertical-align: top;\n",
       "    }\n",
       "\n",
       "    .dataframe thead th {\n",
       "        text-align: right;\n",
       "    }\n",
       "</style>\n",
       "<table border=\"1\" class=\"dataframe\">\n",
       "  <thead>\n",
       "    <tr style=\"text-align: right;\">\n",
       "      <th></th>\n",
       "      <th>mean</th>\n",
       "      <th>size</th>\n",
       "    </tr>\n",
       "    <tr>\n",
       "      <th>Working Professional or Student</th>\n",
       "      <th></th>\n",
       "      <th></th>\n",
       "    </tr>\n",
       "  </thead>\n",
       "  <tbody>\n",
       "    <tr>\n",
       "      <th>Student</th>\n",
       "      <td>2.944893</td>\n",
       "      <td>27891</td>\n",
       "    </tr>\n",
       "    <tr>\n",
       "      <th>Working Professional</th>\n",
       "      <td>3.166667</td>\n",
       "      <td>6</td>\n",
       "    </tr>\n",
       "  </tbody>\n",
       "</table>\n",
       "</div>"
      ],
      "text/plain": [
       "                                     mean   size\n",
       "Working Professional or Student                 \n",
       "Student                          2.944893  27891\n",
       "Working Professional             3.166667      6"
      ]
     },
     "metadata": {},
     "output_type": "display_data"
    },
    {
     "name": "stdout",
     "output_type": "stream",
     "text": [
      "\n",
      "Null Data Statistics:\n"
     ]
    },
    {
     "data": {
      "text/html": [
       "<div>\n",
       "<style scoped>\n",
       "    .dataframe tbody tr th:only-of-type {\n",
       "        vertical-align: middle;\n",
       "    }\n",
       "\n",
       "    .dataframe tbody tr th {\n",
       "        vertical-align: top;\n",
       "    }\n",
       "\n",
       "    .dataframe thead th {\n",
       "        text-align: right;\n",
       "    }\n",
       "</style>\n",
       "<table border=\"1\" class=\"dataframe\">\n",
       "  <thead>\n",
       "    <tr style=\"text-align: right;\">\n",
       "      <th></th>\n",
       "      <th>mean</th>\n",
       "      <th>size</th>\n",
       "    </tr>\n",
       "    <tr>\n",
       "      <th>Working Professional or Student</th>\n",
       "      <th></th>\n",
       "      <th></th>\n",
       "    </tr>\n",
       "  </thead>\n",
       "  <tbody>\n",
       "    <tr>\n",
       "      <th>Student</th>\n",
       "      <td>NaN</td>\n",
       "      <td>10</td>\n",
       "    </tr>\n",
       "    <tr>\n",
       "      <th>Working Professional</th>\n",
       "      <td>NaN</td>\n",
       "      <td>112793</td>\n",
       "    </tr>\n",
       "  </tbody>\n",
       "</table>\n",
       "</div>"
      ],
      "text/plain": [
       "                                 mean    size\n",
       "Working Professional or Student              \n",
       "Student                           NaN      10\n",
       "Working Professional              NaN  112793"
      ]
     },
     "metadata": {},
     "output_type": "display_data"
    },
    {
     "name": "stdout",
     "output_type": "stream",
     "text": [
      "\n",
      "\n",
      "Statistics for Job Satisfaction:\n",
      "Not Null Data Statistics:\n"
     ]
    },
    {
     "data": {
      "text/html": [
       "<div>\n",
       "<style scoped>\n",
       "    .dataframe tbody tr th:only-of-type {\n",
       "        vertical-align: middle;\n",
       "    }\n",
       "\n",
       "    .dataframe tbody tr th {\n",
       "        vertical-align: top;\n",
       "    }\n",
       "\n",
       "    .dataframe thead th {\n",
       "        text-align: right;\n",
       "    }\n",
       "</style>\n",
       "<table border=\"1\" class=\"dataframe\">\n",
       "  <thead>\n",
       "    <tr style=\"text-align: right;\">\n",
       "      <th></th>\n",
       "      <th>mean</th>\n",
       "      <th>size</th>\n",
       "    </tr>\n",
       "    <tr>\n",
       "      <th>Working Professional or Student</th>\n",
       "      <th></th>\n",
       "      <th></th>\n",
       "    </tr>\n",
       "  </thead>\n",
       "  <tbody>\n",
       "    <tr>\n",
       "      <th>Student</th>\n",
       "      <td>2.375000</td>\n",
       "      <td>8</td>\n",
       "    </tr>\n",
       "    <tr>\n",
       "      <th>Working Professional</th>\n",
       "      <td>2.974446</td>\n",
       "      <td>112782</td>\n",
       "    </tr>\n",
       "  </tbody>\n",
       "</table>\n",
       "</div>"
      ],
      "text/plain": [
       "                                     mean    size\n",
       "Working Professional or Student                  \n",
       "Student                          2.375000       8\n",
       "Working Professional             2.974446  112782"
      ]
     },
     "metadata": {},
     "output_type": "display_data"
    },
    {
     "name": "stdout",
     "output_type": "stream",
     "text": [
      "\n",
      "Null Data Statistics:\n"
     ]
    },
    {
     "data": {
      "text/html": [
       "<div>\n",
       "<style scoped>\n",
       "    .dataframe tbody tr th:only-of-type {\n",
       "        vertical-align: middle;\n",
       "    }\n",
       "\n",
       "    .dataframe tbody tr th {\n",
       "        vertical-align: top;\n",
       "    }\n",
       "\n",
       "    .dataframe thead th {\n",
       "        text-align: right;\n",
       "    }\n",
       "</style>\n",
       "<table border=\"1\" class=\"dataframe\">\n",
       "  <thead>\n",
       "    <tr style=\"text-align: right;\">\n",
       "      <th></th>\n",
       "      <th>mean</th>\n",
       "      <th>size</th>\n",
       "    </tr>\n",
       "    <tr>\n",
       "      <th>Working Professional or Student</th>\n",
       "      <th></th>\n",
       "      <th></th>\n",
       "    </tr>\n",
       "  </thead>\n",
       "  <tbody>\n",
       "    <tr>\n",
       "      <th>Student</th>\n",
       "      <td>NaN</td>\n",
       "      <td>27893</td>\n",
       "    </tr>\n",
       "    <tr>\n",
       "      <th>Working Professional</th>\n",
       "      <td>NaN</td>\n",
       "      <td>17</td>\n",
       "    </tr>\n",
       "  </tbody>\n",
       "</table>\n",
       "</div>"
      ],
      "text/plain": [
       "                                 mean   size\n",
       "Working Professional or Student             \n",
       "Student                           NaN  27893\n",
       "Working Professional              NaN     17"
      ]
     },
     "metadata": {},
     "output_type": "display_data"
    },
    {
     "name": "stdout",
     "output_type": "stream",
     "text": [
      "\n",
      "\n",
      "Statistics for Financial Stress:\n",
      "Not Null Data Statistics:\n"
     ]
    },
    {
     "data": {
      "text/html": [
       "<div>\n",
       "<style scoped>\n",
       "    .dataframe tbody tr th:only-of-type {\n",
       "        vertical-align: middle;\n",
       "    }\n",
       "\n",
       "    .dataframe tbody tr th {\n",
       "        vertical-align: top;\n",
       "    }\n",
       "\n",
       "    .dataframe thead th {\n",
       "        text-align: right;\n",
       "    }\n",
       "</style>\n",
       "<table border=\"1\" class=\"dataframe\">\n",
       "  <thead>\n",
       "    <tr style=\"text-align: right;\">\n",
       "      <th></th>\n",
       "      <th>mean</th>\n",
       "      <th>size</th>\n",
       "    </tr>\n",
       "    <tr>\n",
       "      <th>Working Professional or Student</th>\n",
       "      <th></th>\n",
       "      <th></th>\n",
       "    </tr>\n",
       "  </thead>\n",
       "  <tbody>\n",
       "    <tr>\n",
       "      <th>Student</th>\n",
       "      <td>3.139867</td>\n",
       "      <td>27898</td>\n",
       "    </tr>\n",
       "    <tr>\n",
       "      <th>Working Professional</th>\n",
       "      <td>2.951666</td>\n",
       "      <td>112798</td>\n",
       "    </tr>\n",
       "  </tbody>\n",
       "</table>\n",
       "</div>"
      ],
      "text/plain": [
       "                                     mean    size\n",
       "Working Professional or Student                  \n",
       "Student                          3.139867   27898\n",
       "Working Professional             2.951666  112798"
      ]
     },
     "metadata": {},
     "output_type": "display_data"
    },
    {
     "name": "stdout",
     "output_type": "stream",
     "text": [
      "\n",
      "Null Data Statistics:\n"
     ]
    },
    {
     "data": {
      "text/html": [
       "<div>\n",
       "<style scoped>\n",
       "    .dataframe tbody tr th:only-of-type {\n",
       "        vertical-align: middle;\n",
       "    }\n",
       "\n",
       "    .dataframe tbody tr th {\n",
       "        vertical-align: top;\n",
       "    }\n",
       "\n",
       "    .dataframe thead th {\n",
       "        text-align: right;\n",
       "    }\n",
       "</style>\n",
       "<table border=\"1\" class=\"dataframe\">\n",
       "  <thead>\n",
       "    <tr style=\"text-align: right;\">\n",
       "      <th></th>\n",
       "      <th>mean</th>\n",
       "      <th>size</th>\n",
       "    </tr>\n",
       "    <tr>\n",
       "      <th>Working Professional or Student</th>\n",
       "      <th></th>\n",
       "      <th></th>\n",
       "    </tr>\n",
       "  </thead>\n",
       "  <tbody>\n",
       "    <tr>\n",
       "      <th>Student</th>\n",
       "      <td>NaN</td>\n",
       "      <td>3</td>\n",
       "    </tr>\n",
       "    <tr>\n",
       "      <th>Working Professional</th>\n",
       "      <td>NaN</td>\n",
       "      <td>1</td>\n",
       "    </tr>\n",
       "  </tbody>\n",
       "</table>\n",
       "</div>"
      ],
      "text/plain": [
       "                                 mean  size\n",
       "Working Professional or Student            \n",
       "Student                           NaN     3\n",
       "Working Professional              NaN     1"
      ]
     },
     "metadata": {},
     "output_type": "display_data"
    },
    {
     "name": "stdout",
     "output_type": "stream",
     "text": [
      "\n",
      "\n"
     ]
    }
   ],
   "source": [
    "def print_statistics_by_group(train, column_name):\n",
    "    # 결측치가 없는 데이터 처리\n",
    "    not_null_data = train.loc[~train[column_name].isna(), :]\n",
    "    # 그룹별 통계량 계산\n",
    "    not_null_stats = not_null_data.groupby('Working Professional or Student')[column_name].agg(['mean', 'size'])\n",
    "\n",
    "    # 결측치가 있는 데이터 처리\n",
    "    null_data = train.loc[train[column_name].isna(), :]\n",
    "    # 그룹별 통계량 계산 (결측치가 있는 경우)\n",
    "    null_stats = null_data.groupby('Working Professional or Student')[column_name].agg(['mean', 'size'])\n",
    "    \n",
    "    # 출력\n",
    "    print(f\"Statistics for {column_name}:\")\n",
    "    print(\"Not Null Data Statistics:\")\n",
    "    display(not_null_stats)\n",
    "    print(\"\\nNull Data Statistics:\")\n",
    "    display(null_stats)\n",
    "    print(\"\\n\")\n",
    "\n",
    "# 예시로 각 컬럼에 대해 통계 확인하기\n",
    "columns_to_check = ['Academic Pressure', 'Work Pressure', 'Study Satisfaction', 'Job Satisfaction', 'Financial Stress']\n",
    "\n",
    "for column in columns_to_check:\n",
    "    print_statistics_by_group(train, column)"
   ]
  },
  {
   "cell_type": "code",
   "execution_count": 9,
   "id": "583aa3f3",
   "metadata": {
    "execution": {
     "iopub.execute_input": "2024-11-15T11:23:22.833255Z",
     "iopub.status.busy": "2024-11-15T11:23:22.832572Z",
     "iopub.status.idle": "2024-11-15T11:23:22.836571Z",
     "shell.execute_reply": "2024-11-15T11:23:22.835729Z"
    },
    "papermill": {
     "duration": 0.019742,
     "end_time": "2024-11-15T11:23:22.838373",
     "exception": false,
     "start_time": "2024-11-15T11:23:22.818631",
     "status": "completed"
    },
    "tags": []
   },
   "outputs": [],
   "source": [
    "# not_null_work_pressure = train.loc[~train['Work Pressure'].isna(), :]\n",
    "# not_null_work_pressure.groupby('Working Professional or Student')['Work Pressure'].agg(['mean', 'size'])\n",
    "\n",
    "# not_null_work_pressure[not_null_work_pressure['Working Professional or Student'] != 'Student']\n",
    "\n",
    "# null_work_pressure = train.loc[train['Work Pressure'].isna(), :]\n",
    "# null_work_pressure.groupby('Working Professional or Student')['Work Pressure'].agg(['mean', 'size'])"
   ]
  },
  {
   "cell_type": "code",
   "execution_count": 10,
   "id": "1b3905ff",
   "metadata": {
    "execution": {
     "iopub.execute_input": "2024-11-15T11:23:22.866169Z",
     "iopub.status.busy": "2024-11-15T11:23:22.865827Z",
     "iopub.status.idle": "2024-11-15T11:23:23.566569Z",
     "shell.execute_reply": "2024-11-15T11:23:23.565492Z"
    },
    "papermill": {
     "duration": 0.717135,
     "end_time": "2024-11-15T11:23:23.569162",
     "exception": false,
     "start_time": "2024-11-15T11:23:22.852027",
     "status": "completed"
    },
    "tags": []
   },
   "outputs": [],
   "source": [
    "def fill_null(train, test, cols):\n",
    "    for col in cols:\n",
    "        if col in ['Academic Pressure', 'Study Satisfaction']:\n",
    "            # 학생 그룹에 대해 결측치 처리\n",
    "            for df in [train, test]:\n",
    "                avg_value = round(df[df['Working Professional or Student'] == 'Student'][col].mean())\n",
    "                df.loc[df['Working Professional or Student'] == 'Student', col] = df.loc[df['Working Professional or Student'] == 'Student', col].fillna(avg_value)\n",
    "\n",
    "        elif col in ['Work Pressure', 'Job Satisfaction']:\n",
    "            # 직장인 그룹에 대해 결측치 처리\n",
    "            for df in [train, test]:\n",
    "                avg_value = round(df[df['Working Professional or Student'] != 'Student'][col].mean())\n",
    "                df.loc[df['Working Professional or Student'] != 'Student', col] = df.loc[df['Working Professional or Student'] != 'Student', col].fillna(avg_value)\n",
    "\n",
    "        elif col == \"CGPA\":\n",
    "            # 학생 그룹에 대해 결측치 처리 (CGPA)\n",
    "            for df in [train, test]:\n",
    "                avg_value = df[df['Working Professional or Student'] == 'Student'][col].mean()\n",
    "                df.loc[df['Working Professional or Student'] == 'Student', col] = df.loc[df['Working Professional or Student'] == 'Student', col].fillna(avg_value)\n",
    "\n",
    "    return train, test\n",
    "\n",
    "# 사용할 컬럼 목록\n",
    "pressure_satisfaction_cols = ['Academic Pressure', 'Work Pressure', 'Study Satisfaction', 'Job Satisfaction', 'CGPA']\n",
    "\n",
    "train, test = fill_null(train, test, pressure_satisfaction_cols)"
   ]
  },
  {
   "cell_type": "code",
   "execution_count": 11,
   "id": "b0cd5f0a",
   "metadata": {
    "execution": {
     "iopub.execute_input": "2024-11-15T11:23:23.596873Z",
     "iopub.status.busy": "2024-11-15T11:23:23.596231Z",
     "iopub.status.idle": "2024-11-15T11:23:23.600241Z",
     "shell.execute_reply": "2024-11-15T11:23:23.599381Z"
    },
    "papermill": {
     "duration": 0.019621,
     "end_time": "2024-11-15T11:23:23.602184",
     "exception": false,
     "start_time": "2024-11-15T11:23:23.582563",
     "status": "completed"
    },
    "tags": []
   },
   "outputs": [],
   "source": [
    "# train[pressure_satisfaction_cols] = train[pressure_satisfaction_cols].fillna(0)\n",
    "# test[pressure_satisfaction_cols] = test[pressure_satisfaction_cols].fillna(0)"
   ]
  },
  {
   "cell_type": "markdown",
   "id": "b859ad25",
   "metadata": {
    "papermill": {
     "duration": 0.012356,
     "end_time": "2024-11-15T11:23:23.627168",
     "exception": false,
     "start_time": "2024-11-15T11:23:23.614812",
     "status": "completed"
    },
    "tags": []
   },
   "source": [
    "# Feature Enginnering\n",
    "### Total Score (Pressure + Satisfaction)"
   ]
  },
  {
   "cell_type": "code",
   "execution_count": 12,
   "id": "0981c281",
   "metadata": {
    "execution": {
     "iopub.execute_input": "2024-11-15T11:23:23.654138Z",
     "iopub.status.busy": "2024-11-15T11:23:23.653438Z",
     "iopub.status.idle": "2024-11-15T11:23:23.757011Z",
     "shell.execute_reply": "2024-11-15T11:23:23.756100Z"
    },
    "papermill": {
     "duration": 0.119005,
     "end_time": "2024-11-15T11:23:23.759098",
     "exception": false,
     "start_time": "2024-11-15T11:23:23.640093",
     "status": "completed"
    },
    "tags": []
   },
   "outputs": [
    {
     "data": {
      "text/html": [
       "<div>\n",
       "<style scoped>\n",
       "    .dataframe tbody tr th:only-of-type {\n",
       "        vertical-align: middle;\n",
       "    }\n",
       "\n",
       "    .dataframe tbody tr th {\n",
       "        vertical-align: top;\n",
       "    }\n",
       "\n",
       "    .dataframe thead th {\n",
       "        text-align: right;\n",
       "    }\n",
       "</style>\n",
       "<table border=\"1\" class=\"dataframe\">\n",
       "  <thead>\n",
       "    <tr style=\"text-align: right;\">\n",
       "      <th></th>\n",
       "      <th>Academic Pressure</th>\n",
       "      <th>Work Pressure</th>\n",
       "      <th>Study Satisfaction</th>\n",
       "      <th>Job Satisfaction</th>\n",
       "      <th>Depression</th>\n",
       "    </tr>\n",
       "  </thead>\n",
       "  <tbody>\n",
       "    <tr>\n",
       "      <th>Academic Pressure</th>\n",
       "      <td>1.000000</td>\n",
       "      <td>-0.120468</td>\n",
       "      <td>-0.116722</td>\n",
       "      <td>0.015238</td>\n",
       "      <td>0.472382</td>\n",
       "    </tr>\n",
       "    <tr>\n",
       "      <th>Work Pressure</th>\n",
       "      <td>-0.120468</td>\n",
       "      <td>1.000000</td>\n",
       "      <td>0.000000</td>\n",
       "      <td>-0.037195</td>\n",
       "      <td>0.215941</td>\n",
       "    </tr>\n",
       "    <tr>\n",
       "      <th>Study Satisfaction</th>\n",
       "      <td>-0.116722</td>\n",
       "      <td>0.000000</td>\n",
       "      <td>1.000000</td>\n",
       "      <td>-0.121628</td>\n",
       "      <td>-0.168130</td>\n",
       "    </tr>\n",
       "    <tr>\n",
       "      <th>Job Satisfaction</th>\n",
       "      <td>0.015238</td>\n",
       "      <td>-0.037195</td>\n",
       "      <td>-0.121628</td>\n",
       "      <td>1.000000</td>\n",
       "      <td>-0.170005</td>\n",
       "    </tr>\n",
       "    <tr>\n",
       "      <th>Depression</th>\n",
       "      <td>0.472382</td>\n",
       "      <td>0.215941</td>\n",
       "      <td>-0.168130</td>\n",
       "      <td>-0.170005</td>\n",
       "      <td>1.000000</td>\n",
       "    </tr>\n",
       "  </tbody>\n",
       "</table>\n",
       "</div>"
      ],
      "text/plain": [
       "                    Academic Pressure  Work Pressure  Study Satisfaction  \\\n",
       "Academic Pressure            1.000000      -0.120468           -0.116722   \n",
       "Work Pressure               -0.120468       1.000000            0.000000   \n",
       "Study Satisfaction          -0.116722       0.000000            1.000000   \n",
       "Job Satisfaction             0.015238      -0.037195           -0.121628   \n",
       "Depression                   0.472382       0.215941           -0.168130   \n",
       "\n",
       "                    Job Satisfaction  Depression  \n",
       "Academic Pressure           0.015238    0.472382  \n",
       "Work Pressure              -0.037195    0.215941  \n",
       "Study Satisfaction         -0.121628   -0.168130  \n",
       "Job Satisfaction            1.000000   -0.170005  \n",
       "Depression                 -0.170005    1.000000  "
      ]
     },
     "execution_count": 12,
     "metadata": {},
     "output_type": "execute_result"
    }
   ],
   "source": [
    "train[['Academic Pressure', 'Work Pressure', 'Study Satisfaction', 'Job Satisfaction', 'Depression']].corr(method = 'spearman')"
   ]
  },
  {
   "cell_type": "code",
   "execution_count": 13,
   "id": "9093dafa",
   "metadata": {
    "execution": {
     "iopub.execute_input": "2024-11-15T11:23:23.786382Z",
     "iopub.status.busy": "2024-11-15T11:23:23.786103Z",
     "iopub.status.idle": "2024-11-15T11:23:24.288265Z",
     "shell.execute_reply": "2024-11-15T11:23:24.287363Z"
    },
    "papermill": {
     "duration": 0.518179,
     "end_time": "2024-11-15T11:23:24.290616",
     "exception": false,
     "start_time": "2024-11-15T11:23:23.772437",
     "status": "completed"
    },
    "tags": []
   },
   "outputs": [
    {
     "data": {
      "text/plain": [
       "<Axes: >"
      ]
     },
     "execution_count": 13,
     "metadata": {},
     "output_type": "execute_result"
    },
    {
     "data": {
      "image/png": "[encoded data removed]",
      "text/plain": [
       "<Figure size 640x480 with 2 Axes>"
      ]
     },
     "metadata": {},
     "output_type": "display_data"
    }
   ],
   "source": [
    "corr_df = train[['Academic Pressure', 'Work Pressure', 'Study Satisfaction', 'Job Satisfaction', 'Depression']].corr(method = 'spearman')\n",
    "\n",
    "sns.heatmap(corr_df, annot = True, fmt = '.3f', cmap = 'RdYlBu_r')"
   ]
  },
  {
   "cell_type": "code",
   "execution_count": 14,
   "id": "5119f783",
   "metadata": {
    "execution": {
     "iopub.execute_input": "2024-11-15T11:23:24.320082Z",
     "iopub.status.busy": "2024-11-15T11:23:24.319765Z",
     "iopub.status.idle": "2024-11-15T11:23:24.428741Z",
     "shell.execute_reply": "2024-11-15T11:23:24.427805Z"
    },
    "papermill": {
     "duration": 0.126251,
     "end_time": "2024-11-15T11:23:24.431044",
     "exception": false,
     "start_time": "2024-11-15T11:23:24.304793",
     "status": "completed"
    },
    "tags": []
   },
   "outputs": [],
   "source": [
    "# 상관 행렬 계산 (Spearman 방법)\n",
    "tmp_train = train[['Academic Pressure', 'Work Pressure', 'Study Satisfaction', 'Job Satisfaction', 'Depression']].copy()\n",
    "tmp_test = test[['Academic Pressure', 'Work Pressure', 'Study Satisfaction', 'Job Satisfaction']].copy()\n",
    "\n",
    "corr_df = tmp_train.corr(method='spearman')\n",
    "\n",
    "# 각 column에 대한 상관 계수 추출\n",
    "corr_academic = corr_df.loc['Academic Pressure', 'Depression']\n",
    "corr_work = corr_df.loc['Work Pressure', 'Depression']\n",
    "corr_study = corr_df.loc['Study Satisfaction', 'Depression']\n",
    "corr_job = corr_df.loc['Job Satisfaction', 'Depression']\n",
    "\n",
    "# total_score 생성\n",
    "train['total_score'] = (tmp_train['Academic Pressure'].fillna(0) * corr_academic) + \\\n",
    "                        (tmp_train['Work Pressure'].fillna(0) * corr_work) + \\\n",
    "                        (tmp_train['Study Satisfaction'].fillna(0) * corr_study) + \\\n",
    "                        (tmp_train['Job Satisfaction'].fillna(0) * corr_job)\n",
    "\n",
    "test['total_score'] = (tmp_test['Academic Pressure'].fillna(0) * corr_academic) + \\\n",
    "                        (tmp_test['Work Pressure'].fillna(0) * corr_work) + \\\n",
    "                        (tmp_test['Study Satisfaction'].fillna(0) * corr_study) + \\\n",
    "                        (tmp_test['Job Satisfaction'].fillna(0) * corr_job)"
   ]
  },
  {
   "cell_type": "code",
   "execution_count": 15,
   "id": "e93f942e",
   "metadata": {
    "execution": {
     "iopub.execute_input": "2024-11-15T11:23:24.460734Z",
     "iopub.status.busy": "2024-11-15T11:23:24.460404Z",
     "iopub.status.idle": "2024-11-15T11:23:24.473683Z",
     "shell.execute_reply": "2024-11-15T11:23:24.472748Z"
    },
    "papermill": {
     "duration": 0.030229,
     "end_time": "2024-11-15T11:23:24.475679",
     "exception": false,
     "start_time": "2024-11-15T11:23:24.445450",
     "status": "completed"
    },
    "tags": []
   },
   "outputs": [
    {
     "data": {
      "text/html": [
       "<div>\n",
       "<style scoped>\n",
       "    .dataframe tbody tr th:only-of-type {\n",
       "        vertical-align: middle;\n",
       "    }\n",
       "\n",
       "    .dataframe tbody tr th {\n",
       "        vertical-align: top;\n",
       "    }\n",
       "\n",
       "    .dataframe thead th {\n",
       "        text-align: right;\n",
       "    }\n",
       "</style>\n",
       "<table border=\"1\" class=\"dataframe\">\n",
       "  <thead>\n",
       "    <tr style=\"text-align: right;\">\n",
       "      <th></th>\n",
       "      <th>total_score</th>\n",
       "      <th>Depression</th>\n",
       "    </tr>\n",
       "  </thead>\n",
       "  <tbody>\n",
       "    <tr>\n",
       "      <th>total_score</th>\n",
       "      <td>1.000000</td>\n",
       "      <td>0.556837</td>\n",
       "    </tr>\n",
       "    <tr>\n",
       "      <th>Depression</th>\n",
       "      <td>0.556837</td>\n",
       "      <td>1.000000</td>\n",
       "    </tr>\n",
       "  </tbody>\n",
       "</table>\n",
       "</div>"
      ],
      "text/plain": [
       "             total_score  Depression\n",
       "total_score     1.000000    0.556837\n",
       "Depression      0.556837    1.000000"
      ]
     },
     "execution_count": 15,
     "metadata": {},
     "output_type": "execute_result"
    }
   ],
   "source": [
    "train[['total_score', 'Depression']].corr()"
   ]
  },
  {
   "cell_type": "code",
   "execution_count": 16,
   "id": "64b08a54",
   "metadata": {
    "execution": {
     "iopub.execute_input": "2024-11-15T11:23:24.504941Z",
     "iopub.status.busy": "2024-11-15T11:23:24.504668Z",
     "iopub.status.idle": "2024-11-15T11:23:24.550355Z",
     "shell.execute_reply": "2024-11-15T11:23:24.549530Z"
    },
    "papermill": {
     "duration": 0.062344,
     "end_time": "2024-11-15T11:23:24.552170",
     "exception": false,
     "start_time": "2024-11-15T11:23:24.489826",
     "status": "completed"
    },
    "tags": []
   },
   "outputs": [
    {
     "data": {
      "text/plain": [
       "array(['BHM', 'LLB', 'B.Pharm', 'BBA', 'MCA', 'MD', 'B.Sc', 'ME',\n",
       "       'B.Arch', 'BCA', 'BE', 'MA', 'B.Ed', 'B.Com', 'MBA', 'M.Com', nan,\n",
       "       'B.A', 'Class 12', 'M.Tech', 'PhD', 'M.Ed', 'M.Sc', 'B.Tech',\n",
       "       'LLM', 'MBBS', 'M.Pharm', 'MPA', 'Class 11', 'M.Arch'],\n",
       "      dtype=object)"
      ]
     },
     "execution_count": 16,
     "metadata": {},
     "output_type": "execute_result"
    }
   ],
   "source": [
    "degree = {\n",
    "    \"BCom\": \"B.Com\", \"B.Com\": \"B.Com\", \"B.Comm\": \"B.Com\",\n",
    "    \"B.Tech\": \"B.Tech\", \"BTech\": \"B.Tech\", \"B.T\": \"B.Tech\",\n",
    "    \"BSc\": \"B.Sc\", \"B.Sc\": \"B.Sc\", \"Bachelor of Science\": \"B.Sc\",\n",
    "    \"BArch\": \"B.Arch\", \"B.Arch\": \"B.Arch\",\n",
    "    \"BA\": \"B.A\", \"B.A\": \"B.A\",\n",
    "    \"BBA\": \"BBA\", \"BB\": \"BBA\",\n",
    "    \"BCA\": \"BCA\",\n",
    "    \"BE\": \"BE\",\n",
    "    \"BEd\": \"B.Ed\", \"B.Ed\": \"B.Ed\",\n",
    "    \"BPharm\": \"B.Pharm\", \"B.Pharm\": \"B.Pharm\",\n",
    "    \"BHM\": \"BHM\",\n",
    "    \"LLB\": \"LLB\", \"LL B\": \"LLB\", \"LL BA\": \"LLB\", \"LL.Com\": \"LLB\", \"LLCom\": \"LLB\",\n",
    "    \"MCom\": \"M.Com\", \"M.Com\": \"M.Com\",\n",
    "    \"M.Tech\": \"M.Tech\", \"MTech\": \"M.Tech\", \"M.T\": \"M.Tech\",\n",
    "    \"MSc\": \"M.Sc\", \"M.Sc\": \"M.Sc\", \"Master of Science\": \"M.Sc\",\n",
    "    \"MBA\": \"MBA\",\n",
    "    \"MCA\": \"MCA\",\n",
    "    \"MD\": \"MD\",\n",
    "    \"ME\": \"ME\",\n",
    "    \"MEd\": \"M.Ed\", \"M.Ed\": \"M.Ed\",\n",
    "    \"MArch\": \"M.Arch\", \"M.Arch\": \"M.Arch\",\n",
    "    \"MPharm\": \"M.Pharm\", \"M.Pharm\": \"M.Pharm\",\n",
    "    \"MA\": \"MA\", \"M.A\": \"MA\",\n",
    "    \"MPA\": \"MPA\",\n",
    "    \"LLM\": \"LLM\",\n",
    "    \"PhD\": \"PhD\",\n",
    "    \"MBBS\": \"MBBS\",\n",
    "    \"CA\": \"CA\",\n",
    "    \"Class 12\": \"Class 12\", \"12th\": \"Class 12\",\n",
    "    \"Class 11\": \"Class 11\", \"11th\": \"Class 11\"\n",
    "}\n",
    "\n",
    "train['Degree'] = train['Degree'].map(degree)\n",
    "test['Degree'] = test['Degree'].map(degree)\n",
    "\n",
    "train['Degree'].unique()"
   ]
  },
  {
   "cell_type": "markdown",
   "id": "debd19a8",
   "metadata": {
    "papermill": {
     "duration": 0.013861,
     "end_time": "2024-11-15T11:23:24.580216",
     "exception": false,
     "start_time": "2024-11-15T11:23:24.566355",
     "status": "completed"
    },
    "tags": []
   },
   "source": [
    "# Clean Data"
   ]
  },
  {
   "cell_type": "code",
   "execution_count": 17,
   "id": "09d36312",
   "metadata": {
    "execution": {
     "iopub.execute_input": "2024-11-15T11:23:24.609808Z",
     "iopub.status.busy": "2024-11-15T11:23:24.609511Z",
     "iopub.status.idle": "2024-11-15T11:23:24.766579Z",
     "shell.execute_reply": "2024-11-15T11:23:24.765689Z"
    },
    "papermill": {
     "duration": 0.174251,
     "end_time": "2024-11-15T11:23:24.768555",
     "exception": false,
     "start_time": "2024-11-15T11:23:24.594304",
     "status": "completed"
    },
    "tags": []
   },
   "outputs": [],
   "source": [
    "def clean_columns(df, column, valid_categories):\n",
    "    df[column] = df[column].apply(lambda x : x if x in valid_categories else 'Noise')\n",
    "    return df\n",
    "\n",
    "valid_sleep_duration = [\"Less than 5 hours\", \"5-6 hours\", \"6-7 hours\", \"7-8 hours\", \"More than 8 hours\"]\n",
    "valid_dietary_habits = ['Healthy', 'Moderate', 'Unhealthy']\n",
    "\n",
    "train = clean_columns(train, 'Sleep Duration', valid_sleep_duration)\n",
    "train = clean_columns(train, 'Dietary Habits', valid_dietary_habits)\n",
    "test = clean_columns(test, 'Sleep Duration', valid_sleep_duration)\n",
    "test = clean_columns(test, 'Dietary Habits', valid_dietary_habits)"
   ]
  },
  {
   "cell_type": "code",
   "execution_count": 18,
   "id": "093f1fd3",
   "metadata": {
    "execution": {
     "iopub.execute_input": "2024-11-15T11:23:24.797838Z",
     "iopub.status.busy": "2024-11-15T11:23:24.797574Z",
     "iopub.status.idle": "2024-11-15T11:23:26.997988Z",
     "shell.execute_reply": "2024-11-15T11:23:26.997195Z"
    },
    "papermill": {
     "duration": 2.217556,
     "end_time": "2024-11-15T11:23:27.000249",
     "exception": false,
     "start_time": "2024-11-15T11:23:24.782693",
     "status": "completed"
    },
    "tags": []
   },
   "outputs": [],
   "source": [
    "def removieNoise(df, columns, threshold=100):\n",
    "    \n",
    "    for column in columns:\n",
    "        value_counts = df[column].value_counts()\n",
    "        low_freq_categories = value_counts[value_counts < threshold].index\n",
    "        df[column] = df[column].apply(lambda x: x if x not in low_freq_categories else 'Other')\n",
    "    \n",
    "    return df\n",
    "\n",
    "train = removieNoise(train, ['Name', 'City', 'Profession', 'Degree'])\n",
    "test = removieNoise(test, ['Name', 'City', 'Profession', 'Degree'])"
   ]
  },
  {
   "cell_type": "code",
   "execution_count": 19,
   "id": "b2f8a2ef",
   "metadata": {
    "execution": {
     "iopub.execute_input": "2024-11-15T11:23:27.030959Z",
     "iopub.status.busy": "2024-11-15T11:23:27.030412Z",
     "iopub.status.idle": "2024-11-15T11:23:28.531198Z",
     "shell.execute_reply": "2024-11-15T11:23:28.530168Z"
    },
    "papermill": {
     "duration": 1.51874,
     "end_time": "2024-11-15T11:23:28.533619",
     "exception": false,
     "start_time": "2024-11-15T11:23:27.014879",
     "status": "completed"
    },
    "tags": []
   },
   "outputs": [],
   "source": [
    "# cat_c = [col for col in train.columns if col != 'Depression']\n",
    "# train[cat_c].dtypes\n",
    "train = train.fillna('None').astype('str')\n",
    "test = test.fillna('None').astype('str')"
   ]
  },
  {
   "cell_type": "markdown",
   "id": "21009103",
   "metadata": {
    "papermill": {
     "duration": 0.013853,
     "end_time": "2024-11-15T11:23:28.562088",
     "exception": false,
     "start_time": "2024-11-15T11:23:28.548235",
     "status": "completed"
    },
    "tags": []
   },
   "source": [
    "# Catboost Model"
   ]
  },
  {
   "cell_type": "code",
   "execution_count": 20,
   "id": "b0a6ff6f",
   "metadata": {
    "execution": {
     "iopub.execute_input": "2024-11-15T11:23:28.591387Z",
     "iopub.status.busy": "2024-11-15T11:23:28.591050Z",
     "iopub.status.idle": "2024-11-15T11:23:28.637785Z",
     "shell.execute_reply": "2024-11-15T11:23:28.636786Z"
    },
    "papermill": {
     "duration": 0.063902,
     "end_time": "2024-11-15T11:23:28.639971",
     "exception": false,
     "start_time": "2024-11-15T11:23:28.576069",
     "status": "completed"
    },
    "tags": []
   },
   "outputs": [
    {
     "name": "stdout",
     "output_type": "stream",
     "text": [
      "CPU times: user 34.6 ms, sys: 872 µs, total: 35.5 ms\n",
      "Wall time: 34.9 ms\n"
     ]
    }
   ],
   "source": [
    "%%time\n",
    "\n",
    "y = train['Depression']\n",
    "X = train.drop(['Depression'], axis = 1)\n",
    "\n",
    "def CAT_(X, y, test, catboost_params, fold=10, seed=0):\n",
    "    SKF = StratifiedKFold(n_splits=fold, shuffle = True, random_state = seed)\n",
    "    train_accuracies = []\n",
    "    valid_accuracies = []\n",
    "    test_predictions = []\n",
    "    oof_predictions = np.zeros(len(X))\n",
    "    \n",
    "    test_pool = Pool(test, cat_features = X.columns.values)\n",
    "    \n",
    "    for fold, (train_idx, val_idx) in enumerate(SKF.split(X, y)):\n",
    "        X_train, X_val = X.iloc[train_idx], X.iloc[val_idx]\n",
    "        y_train, y_val = y.iloc[train_idx], y.iloc[val_idx]\n",
    "        \n",
    "        train_pool = Pool(X_train, y_train, cat_features = X.columns.values)\n",
    "        val_pool = Pool(X_val, y_val, cat_features = X.columns.values)\n",
    "        \n",
    "        model = CatBoostClassifier(**catboost_params, random_state = seed, verbose = 0)\n",
    "        model.fit(train_pool, eval_set=val_pool, early_stopping_rounds=50)\n",
    "        train_predictions = model.predict(train_pool)\n",
    "        train_accuracy = accuracy_score(y_train, train_predictions)\n",
    "        train_accuracies.append(train_accuracy)\n",
    "        \n",
    "        val_predictions = model.predict(val_pool)\n",
    "        valid_accuracy = accuracy_score(y_val, val_predictions)\n",
    "        valid_accuracies.append(valid_accuracy)\n",
    "        \n",
    "        oof_predictions[val_idx] = model.predict_proba(val_pool)[:,1]\n",
    "        \n",
    "        test_fold_pred = model.predict_proba(test_pool)[:,1]\n",
    "        test_predictions.append(test_fold_pred)\n",
    "        \n",
    "        print(f'Fold {fold + 1} Train Accuracy: {train_accuracy:.3f}, Valid Accuracy: {valid_accuracy:.3f}')\n",
    "    \n",
    "    overall_train_accuracy = np.mean(train_accuracies)\n",
    "    overall_valid_accuracy = np.mean(valid_accuracies)\n",
    "    \n",
    "    print(f'Overall Train Accuracy: {overall_train_accuracy:.3f}')\n",
    "    print(f'Overall Valid Accuracy: {overall_valid_accuracy:.3f}')\n",
    "    \n",
    "    mean_oof_preds = np.mean(oof_predictions)\n",
    "    mean_test_preds = np.mean(test_predictions, axis=0)\n",
    "    \n",
    "    return mean_oof_preds, mean_test_preds"
   ]
  },
  {
   "cell_type": "markdown",
   "id": "c35fa65f",
   "metadata": {
    "papermill": {
     "duration": 0.013964,
     "end_time": "2024-11-15T11:23:28.668368",
     "exception": false,
     "start_time": "2024-11-15T11:23:28.654404",
     "status": "completed"
    },
    "tags": []
   },
   "source": [
    "# Train"
   ]
  },
  {
   "cell_type": "code",
   "execution_count": 21,
   "id": "f948e3cb",
   "metadata": {
    "execution": {
     "iopub.execute_input": "2024-11-15T11:23:28.698037Z",
     "iopub.status.busy": "2024-11-15T11:23:28.697719Z",
     "iopub.status.idle": "2024-11-15T11:23:28.701760Z",
     "shell.execute_reply": "2024-11-15T11:23:28.700892Z"
    },
    "papermill": {
     "duration": 0.021122,
     "end_time": "2024-11-15T11:23:28.703683",
     "exception": false,
     "start_time": "2024-11-15T11:23:28.682561",
     "status": "completed"
    },
    "tags": []
   },
   "outputs": [],
   "source": [
    "# Params4 = {\n",
    "#     'loss_function': 'Logloss',\n",
    "#     'eval_metric': 'AUC',\n",
    "#     'learning_rate': 0.08114394459649094,\n",
    "#     'iterations': 1000,\n",
    "#     'depth': 6,\n",
    "#     'random_strength':0,\n",
    "#     'l2_leaf_reg': 0.7047064221215757,\n",
    "#     'task_type': 'GPU'} # LB : 0.94381\n",
    "\n",
    "# meanOFF, meanTest = CAT_(X, y, test, Params4, fold=10, seed = 0)"
   ]
  },
  {
   "cell_type": "code",
   "execution_count": 22,
   "id": "704fda9d",
   "metadata": {
    "execution": {
     "iopub.execute_input": "2024-11-15T11:23:28.733522Z",
     "iopub.status.busy": "2024-11-15T11:23:28.733207Z",
     "iopub.status.idle": "2024-11-15T11:23:28.737214Z",
     "shell.execute_reply": "2024-11-15T11:23:28.736352Z"
    },
    "papermill": {
     "duration": 0.0212,
     "end_time": "2024-11-15T11:23:28.739031",
     "exception": false,
     "start_time": "2024-11-15T11:23:28.717831",
     "status": "completed"
    },
    "tags": []
   },
   "outputs": [],
   "source": [
    "# my_Params1 = {\n",
    "#     'loss_function': 'Logloss',\n",
    "#     'eval_metric': 'AUC',\n",
    "#     'learning_rate': 0.07788937579814562,\n",
    "#     'iterations': 1744,\n",
    "#     'depth': 4,\n",
    "#     'random_strength':100,\n",
    "#     'l2_leaf_reg': 0.007488708299233241,\n",
    "#     'task_type': 'GPU'} # LB : 0.94381\n",
    "\n",
    "\n",
    "# meanOFF, meanTest = CAT_(X, y, test, my_Params1, fold=10, seed = 0)"
   ]
  },
  {
   "cell_type": "code",
   "execution_count": 23,
   "id": "d794c051",
   "metadata": {
    "execution": {
     "iopub.execute_input": "2024-11-15T11:23:28.768798Z",
     "iopub.status.busy": "2024-11-15T11:23:28.768019Z",
     "iopub.status.idle": "2024-11-15T11:23:28.878089Z",
     "shell.execute_reply": "2024-11-15T11:23:28.877232Z"
    },
    "papermill": {
     "duration": 0.126805,
     "end_time": "2024-11-15T11:23:28.879990",
     "exception": false,
     "start_time": "2024-11-15T11:23:28.753185",
     "status": "completed"
    },
    "tags": []
   },
   "outputs": [
    {
     "data": {
      "text/plain": [
       "30"
      ]
     },
     "execution_count": 23,
     "metadata": {},
     "output_type": "execute_result"
    }
   ],
   "source": [
    "import gc\n",
    "gc.collect()"
   ]
  },
  {
   "cell_type": "markdown",
   "id": "cd24689e",
   "metadata": {
    "papermill": {
     "duration": 0.014244,
     "end_time": "2024-11-15T11:23:28.908833",
     "exception": false,
     "start_time": "2024-11-15T11:23:28.894589",
     "status": "completed"
    },
    "tags": []
   },
   "source": [
    "# Submit"
   ]
  },
  {
   "cell_type": "code",
   "execution_count": 24,
   "id": "4810293b",
   "metadata": {
    "execution": {
     "iopub.execute_input": "2024-11-15T11:23:28.938828Z",
     "iopub.status.busy": "2024-11-15T11:23:28.938285Z",
     "iopub.status.idle": "2024-11-15T11:23:28.942519Z",
     "shell.execute_reply": "2024-11-15T11:23:28.941659Z"
    },
    "papermill": {
     "duration": 0.021412,
     "end_time": "2024-11-15T11:23:28.944411",
     "exception": false,
     "start_time": "2024-11-15T11:23:28.922999",
     "status": "completed"
    },
    "tags": []
   },
   "outputs": [],
   "source": [
    "# %%time\n",
    "\n",
    "# sample['Depression'] = np.round(meanTest)\n",
    "\n",
    "# sample.to_csv('submission.csv', index=False)\n",
    "\n",
    "# sample.head()"
   ]
  },
  {
   "cell_type": "markdown",
   "id": "2c7a1e2e",
   "metadata": {
    "papermill": {
     "duration": 0.014414,
     "end_time": "2024-11-15T11:23:28.973102",
     "exception": false,
     "start_time": "2024-11-15T11:23:28.958688",
     "status": "completed"
    },
    "tags": []
   },
   "source": [
    "# Optuna HPO"
   ]
  },
  {
   "cell_type": "code",
   "execution_count": 25,
   "id": "d2ab703a",
   "metadata": {
    "execution": {
     "iopub.execute_input": "2024-11-15T11:23:29.003379Z",
     "iopub.status.busy": "2024-11-15T11:23:29.003056Z",
     "iopub.status.idle": "2024-11-15T11:23:29.064434Z",
     "shell.execute_reply": "2024-11-15T11:23:29.063638Z"
    },
    "papermill": {
     "duration": 0.079087,
     "end_time": "2024-11-15T11:23:29.066689",
     "exception": false,
     "start_time": "2024-11-15T11:23:28.987602",
     "status": "completed"
    },
    "tags": []
   },
   "outputs": [],
   "source": [
    "import optuna\n",
    "from optuna.samplers import TPESampler\n",
    "from sklearn.model_selection import StratifiedKFold\n",
    "from sklearn.metrics import accuracy_score\n",
    "from catboost import CatBoostClassifier, Pool\n",
    "import numpy as np\n",
    "\n",
    "\n",
    "y = train['Depression']\n",
    "X = train.drop(['Depression'], axis = 1)\n",
    "\n",
    "# 주어진 하이퍼파라미터 Params4를 기준으로 범위 재설정\n",
    "def objective(trial):\n",
    "    # Optuna에서 튜닝할 하이퍼파라미터 범위 정의\n",
    "#     catboost_params = {\n",
    "#         'loss_function': 'Logloss',\n",
    "#         'eval_metric': 'AUC',\n",
    "#         'learning_rate': trial.suggest_loguniform('learning_rate', 1e-5, 1e-1),  # 학습률 범위\n",
    "#         'iterations': trial.suggest_int('iterations', 500, 2000),  # 반복 횟수\n",
    "#         'depth': trial.suggest_int('depth', 4, 12),  # 트리 깊이 범위\n",
    "#         'random_strength': trial.suggest_int('random_strength', 0, 100),  # 랜덤 강도\n",
    "#         'l2_leaf_reg': trial.suggest_loguniform('l2_leaf_reg', 1e-5, 1e2),  # L2 정규화\n",
    "#         'task_type': 'GPU',\n",
    "#         'random_state': 0,\n",
    "#         'verbose': 0\n",
    "#     }\n",
    "\n",
    "    catboost_params = {\n",
    "        'loss_function': 'Logloss',\n",
    "        'eval_metric': 'AUC',\n",
    "        'learning_rate': trial.suggest_loguniform('learning_rate', 1e-3, 1e-1),  # 좁힌 학습률 범위\n",
    "        'iterations': trial.suggest_int('iterations', 900, 2000),  # 1000에서 2000 사이\n",
    "        'depth': trial.suggest_int('depth', 3, 8),  # 깊이는 4에서 6 사이로 제한\n",
    "        'random_strength': trial.suggest_int('random_strength', 0, 100),  # 랜덤 강도 범위\n",
    "        'l2_leaf_reg': trial.suggest_loguniform('l2_leaf_reg', 1e-5, 1e1),  # L2 정규화 범위 좁힘\n",
    "        'task_type': 'GPU',\n",
    "        'random_state': 0,\n",
    "        'verbose': 0\n",
    "    }\n",
    "    \n",
    "    # Stratified KFold 설정\n",
    "    fold = 10\n",
    "    SKF = StratifiedKFold(n_splits=fold, shuffle=True, random_state=0)\n",
    "    train_accuracies = []\n",
    "    valid_accuracies = []\n",
    "    \n",
    "    oof_predictions = np.zeros(len(X))  # Out of fold 예측값\n",
    "    \n",
    "    for fold_idx, (train_idx, val_idx) in enumerate(SKF.split(X, y)):\n",
    "#         print(f\"\\n--- Fold {fold_idx + 1} ---\")  # 각 fold마다 시작 로그\n",
    "        \n",
    "        X_train, X_val = X.iloc[train_idx], X.iloc[val_idx]\n",
    "        y_train, y_val = y.iloc[train_idx], y.iloc[val_idx]\n",
    "        \n",
    "        train_pool = Pool(X_train, y_train, cat_features=X.columns.values.tolist())\n",
    "        val_pool = Pool(X_val, y_val, cat_features=X.columns.values.tolist())\n",
    "        \n",
    "        model = CatBoostClassifier(**catboost_params)\n",
    "        model.fit(train_pool, eval_set=val_pool, early_stopping_rounds=50)\n",
    "        \n",
    "        # 훈련 데이터 예측\n",
    "        train_predictions = model.predict(train_pool)\n",
    "        train_accuracy = accuracy_score(y_train, train_predictions)\n",
    "        train_accuracies.append(train_accuracy)\n",
    "        \n",
    "        # 검증 데이터 예측\n",
    "        val_predictions = model.predict(val_pool)\n",
    "        valid_accuracy = accuracy_score(y_val, val_predictions)\n",
    "        valid_accuracies.append(valid_accuracy)\n",
    "        \n",
    "        oof_predictions[val_idx] = model.predict_proba(val_pool)[:, 1]  # OOF 예측값\n",
    "        \n",
    "        # 각 fold의 결과 출력\n",
    "#         print(f\"Train Accuracy for Fold {fold_idx + 1}: {train_accuracy:.3f}\")\n",
    "#         print(f\"Validation Accuracy for Fold {fold_idx + 1}: {valid_accuracy:.3f}\")\n",
    "        \n",
    "    overall_train_accuracy = np.mean(train_accuracies)\n",
    "    overall_valid_accuracy = np.mean(valid_accuracies)\n",
    "    \n",
    "    print(f\"\\nOverall Train Accuracy: {overall_train_accuracy:.3f}\")\n",
    "    print(f\"Overall Validation Accuracy: {overall_valid_accuracy:.3f}\")\n",
    "    \n",
    "    # 최적화할 값 반환 (validation accuracy를 최대로)\n",
    "    return overall_valid_accuracy  # Valid accuracy를 반환해서 최적화"
   ]
  },
  {
   "cell_type": "code",
   "execution_count": 26,
   "id": "7dab9952",
   "metadata": {
    "execution": {
     "iopub.execute_input": "2024-11-15T11:23:29.097306Z",
     "iopub.status.busy": "2024-11-15T11:23:29.096772Z",
     "iopub.status.idle": "2024-11-15T14:05:16.651673Z",
     "shell.execute_reply": "2024-11-15T14:05:16.650796Z"
    },
    "papermill": {
     "duration": 9707.614097,
     "end_time": "2024-11-15T14:05:16.695574",
     "exception": false,
     "start_time": "2024-11-15T11:23:29.081477",
     "status": "completed"
    },
    "tags": []
   },
   "outputs": [
    {
     "name": "stderr",
     "output_type": "stream",
     "text": [
      "[I 2024-11-15 11:23:29,099] A new study created in memory with name: no-name-81116025-0502-4151-894a-950da1c2c5ef\n",
      "Default metric period is 5 because AUC is/are not implemented for GPU\n",
      "Default metric period is 5 because AUC is/are not implemented for GPU\n",
      "Default metric period is 5 because AUC is/are not implemented for GPU\n",
      "Default metric period is 5 because AUC is/are not implemented for GPU\n",
      "Default metric period is 5 because AUC is/are not implemented for GPU\n",
      "Default metric period is 5 because AUC is/are not implemented for GPU\n",
      "Default metric period is 5 because AUC is/are not implemented for GPU\n",
      "Default metric period is 5 because AUC is/are not implemented for GPU\n",
      "Default metric period is 5 because AUC is/are not implemented for GPU\n",
      "Default metric period is 5 because AUC is/are not implemented for GPU\n",
      "[I 2024-11-15 11:29:35,280] Trial 0 finished with value: 0.9309310589907603 and parameters: {'learning_rate': 0.0021050097467122473, 'iterations': 1208, 'depth': 6, 'random_strength': 100, 'l2_leaf_reg': 0.09932139291864998}. Best is trial 0 with value: 0.9309310589907603.\n"
     ]
    },
    {
     "name": "stdout",
     "output_type": "stream",
     "text": [
      "\n",
      "Overall Train Accuracy: 0.932\n",
      "Overall Validation Accuracy: 0.931\n"
     ]
    },
    {
     "name": "stderr",
     "output_type": "stream",
     "text": [
      "Default metric period is 5 because AUC is/are not implemented for GPU\n",
      "Default metric period is 5 because AUC is/are not implemented for GPU\n",
      "Default metric period is 5 because AUC is/are not implemented for GPU\n",
      "Default metric period is 5 because AUC is/are not implemented for GPU\n",
      "Default metric period is 5 because AUC is/are not implemented for GPU\n",
      "Default metric period is 5 because AUC is/are not implemented for GPU\n",
      "Default metric period is 5 because AUC is/are not implemented for GPU\n",
      "Default metric period is 5 because AUC is/are not implemented for GPU\n",
      "Default metric period is 5 because AUC is/are not implemented for GPU\n",
      "Default metric period is 5 because AUC is/are not implemented for GPU\n",
      "[I 2024-11-15 11:30:39,346] Trial 1 finished with value: 0.923909026297086 and parameters: {'learning_rate': 0.0025217006621693953, 'iterations': 1428, 'depth': 7, 'random_strength': 71, 'l2_leaf_reg': 7.558130555958174e-05}. Best is trial 0 with value: 0.9309310589907603.\n"
     ]
    },
    {
     "name": "stdout",
     "output_type": "stream",
     "text": [
      "\n",
      "Overall Train Accuracy: 0.925\n",
      "Overall Validation Accuracy: 0.924\n"
     ]
    },
    {
     "name": "stderr",
     "output_type": "stream",
     "text": [
      "Default metric period is 5 because AUC is/are not implemented for GPU\n",
      "Default metric period is 5 because AUC is/are not implemented for GPU\n",
      "Default metric period is 5 because AUC is/are not implemented for GPU\n",
      "Default metric period is 5 because AUC is/are not implemented for GPU\n",
      "Default metric period is 5 because AUC is/are not implemented for GPU\n",
      "Default metric period is 5 because AUC is/are not implemented for GPU\n",
      "Default metric period is 5 because AUC is/are not implemented for GPU\n",
      "Default metric period is 5 because AUC is/are not implemented for GPU\n",
      "Default metric period is 5 because AUC is/are not implemented for GPU\n",
      "Default metric period is 5 because AUC is/are not implemented for GPU\n",
      "[I 2024-11-15 11:39:15,703] Trial 2 finished with value: 0.9397512437810944 and parameters: {'learning_rate': 0.02401857134749184, 'iterations': 1654, 'depth': 8, 'random_strength': 34, 'l2_leaf_reg': 4.122181280175975}. Best is trial 2 with value: 0.9397512437810944.\n"
     ]
    },
    {
     "name": "stdout",
     "output_type": "stream",
     "text": [
      "\n",
      "Overall Train Accuracy: 0.946\n",
      "Overall Validation Accuracy: 0.940\n"
     ]
    },
    {
     "name": "stderr",
     "output_type": "stream",
     "text": [
      "Default metric period is 5 because AUC is/are not implemented for GPU\n",
      "Default metric period is 5 because AUC is/are not implemented for GPU\n",
      "Default metric period is 5 because AUC is/are not implemented for GPU\n",
      "Default metric period is 5 because AUC is/are not implemented for GPU\n",
      "Default metric period is 5 because AUC is/are not implemented for GPU\n",
      "Default metric period is 5 because AUC is/are not implemented for GPU\n",
      "Default metric period is 5 because AUC is/are not implemented for GPU\n",
      "Default metric period is 5 because AUC is/are not implemented for GPU\n",
      "Default metric period is 5 because AUC is/are not implemented for GPU\n",
      "Default metric period is 5 because AUC is/are not implemented for GPU\n",
      "[I 2024-11-15 11:43:25,901] Trial 3 finished with value: 0.9393461265103056 and parameters: {'learning_rate': 0.025402969413247517, 'iterations': 1253, 'depth': 3, 'random_strength': 88, 'l2_leaf_reg': 0.0029736082911841796}. Best is trial 2 with value: 0.9397512437810944.\n"
     ]
    },
    {
     "name": "stdout",
     "output_type": "stream",
     "text": [
      "\n",
      "Overall Train Accuracy: 0.941\n",
      "Overall Validation Accuracy: 0.939\n"
     ]
    },
    {
     "name": "stderr",
     "output_type": "stream",
     "text": [
      "Default metric period is 5 because AUC is/are not implemented for GPU\n",
      "Default metric period is 5 because AUC is/are not implemented for GPU\n",
      "Default metric period is 5 because AUC is/are not implemented for GPU\n",
      "Default metric period is 5 because AUC is/are not implemented for GPU\n",
      "Default metric period is 5 because AUC is/are not implemented for GPU\n",
      "Default metric period is 5 because AUC is/are not implemented for GPU\n",
      "Default metric period is 5 because AUC is/are not implemented for GPU\n",
      "Default metric period is 5 because AUC is/are not implemented for GPU\n",
      "Default metric period is 5 because AUC is/are not implemented for GPU\n",
      "Default metric period is 5 because AUC is/are not implemented for GPU\n",
      "[I 2024-11-15 11:54:28,142] Trial 4 finished with value: 0.9376332622601279 and parameters: {'learning_rate': 0.003639414420253569, 'iterations': 1919, 'depth': 6, 'random_strength': 60, 'l2_leaf_reg': 9.085960394793663}. Best is trial 2 with value: 0.9397512437810944.\n"
     ]
    },
    {
     "name": "stdout",
     "output_type": "stream",
     "text": [
      "\n",
      "Overall Train Accuracy: 0.940\n",
      "Overall Validation Accuracy: 0.938\n"
     ]
    },
    {
     "name": "stderr",
     "output_type": "stream",
     "text": [
      "Default metric period is 5 because AUC is/are not implemented for GPU\n",
      "Default metric period is 5 because AUC is/are not implemented for GPU\n",
      "Default metric period is 5 because AUC is/are not implemented for GPU\n",
      "Default metric period is 5 because AUC is/are not implemented for GPU\n",
      "Default metric period is 5 because AUC is/are not implemented for GPU\n",
      "Default metric period is 5 because AUC is/are not implemented for GPU\n",
      "Default metric period is 5 because AUC is/are not implemented for GPU\n",
      "Default metric period is 5 because AUC is/are not implemented for GPU\n",
      "Default metric period is 5 because AUC is/are not implemented for GPU\n",
      "Default metric period is 5 because AUC is/are not implemented for GPU\n",
      "[I 2024-11-15 12:00:32,482] Trial 5 finished with value: 0.9399289267945985 and parameters: {'learning_rate': 0.023518459479350384, 'iterations': 1422, 'depth': 4, 'random_strength': 70, 'l2_leaf_reg': 3.838379783507004}. Best is trial 5 with value: 0.9399289267945985.\n"
     ]
    },
    {
     "name": "stdout",
     "output_type": "stream",
     "text": [
      "\n",
      "Overall Train Accuracy: 0.942\n",
      "Overall Validation Accuracy: 0.940\n"
     ]
    },
    {
     "name": "stderr",
     "output_type": "stream",
     "text": [
      "Default metric period is 5 because AUC is/are not implemented for GPU\n",
      "Default metric period is 5 because AUC is/are not implemented for GPU\n",
      "Default metric period is 5 because AUC is/are not implemented for GPU\n",
      "Default metric period is 5 because AUC is/are not implemented for GPU\n",
      "Default metric period is 5 because AUC is/are not implemented for GPU\n",
      "Default metric period is 5 because AUC is/are not implemented for GPU\n",
      "Default metric period is 5 because AUC is/are not implemented for GPU\n",
      "Default metric period is 5 because AUC is/are not implemented for GPU\n",
      "Default metric period is 5 because AUC is/are not implemented for GPU\n",
      "Default metric period is 5 because AUC is/are not implemented for GPU\n",
      "[I 2024-11-15 12:04:16,462] Trial 6 finished with value: 0.9391968727789622 and parameters: {'learning_rate': 0.028592527361861412, 'iterations': 1106, 'depth': 3, 'random_strength': 78, 'l2_leaf_reg': 0.23880858683326536}. Best is trial 5 with value: 0.9399289267945985.\n"
     ]
    },
    {
     "name": "stdout",
     "output_type": "stream",
     "text": [
      "\n",
      "Overall Train Accuracy: 0.941\n",
      "Overall Validation Accuracy: 0.939\n"
     ]
    },
    {
     "name": "stderr",
     "output_type": "stream",
     "text": [
      "Default metric period is 5 because AUC is/are not implemented for GPU\n",
      "Default metric period is 5 because AUC is/are not implemented for GPU\n",
      "Default metric period is 5 because AUC is/are not implemented for GPU\n",
      "Default metric period is 5 because AUC is/are not implemented for GPU\n",
      "Default metric period is 5 because AUC is/are not implemented for GPU\n",
      "Default metric period is 5 because AUC is/are not implemented for GPU\n",
      "Default metric period is 5 because AUC is/are not implemented for GPU\n",
      "Default metric period is 5 because AUC is/are not implemented for GPU\n",
      "Default metric period is 5 because AUC is/are not implemented for GPU\n",
      "Default metric period is 5 because AUC is/are not implemented for GPU\n",
      "[I 2024-11-15 12:07:44,170] Trial 7 finished with value: 0.9356147832267234 and parameters: {'learning_rate': 0.007708118615797747, 'iterations': 1012, 'depth': 3, 'random_strength': 40, 'l2_leaf_reg': 0.1341805392122693}. Best is trial 5 with value: 0.9399289267945985.\n"
     ]
    },
    {
     "name": "stdout",
     "output_type": "stream",
     "text": [
      "\n",
      "Overall Train Accuracy: 0.936\n",
      "Overall Validation Accuracy: 0.936\n"
     ]
    },
    {
     "name": "stderr",
     "output_type": "stream",
     "text": [
      "Default metric period is 5 because AUC is/are not implemented for GPU\n",
      "Default metric period is 5 because AUC is/are not implemented for GPU\n",
      "Default metric period is 5 because AUC is/are not implemented for GPU\n",
      "Default metric period is 5 because AUC is/are not implemented for GPU\n",
      "Default metric period is 5 because AUC is/are not implemented for GPU\n",
      "Default metric period is 5 because AUC is/are not implemented for GPU\n",
      "Default metric period is 5 because AUC is/are not implemented for GPU\n",
      "Default metric period is 5 because AUC is/are not implemented for GPU\n",
      "Default metric period is 5 because AUC is/are not implemented for GPU\n",
      "Default metric period is 5 because AUC is/are not implemented for GPU\n",
      "[I 2024-11-15 12:13:21,166] Trial 8 finished with value: 0.9334754797441367 and parameters: {'learning_rate': 0.004632395331602736, 'iterations': 1632, 'depth': 4, 'random_strength': 59, 'l2_leaf_reg': 5.528722844299595e-05}. Best is trial 5 with value: 0.9399289267945985.\n"
     ]
    },
    {
     "name": "stdout",
     "output_type": "stream",
     "text": [
      "\n",
      "Overall Train Accuracy: 0.934\n",
      "Overall Validation Accuracy: 0.933\n"
     ]
    },
    {
     "name": "stderr",
     "output_type": "stream",
     "text": [
      "Default metric period is 5 because AUC is/are not implemented for GPU\n",
      "Default metric period is 5 because AUC is/are not implemented for GPU\n",
      "Default metric period is 5 because AUC is/are not implemented for GPU\n",
      "Default metric period is 5 because AUC is/are not implemented for GPU\n",
      "Default metric period is 5 because AUC is/are not implemented for GPU\n",
      "Default metric period is 5 because AUC is/are not implemented for GPU\n",
      "Default metric period is 5 because AUC is/are not implemented for GPU\n",
      "Default metric period is 5 because AUC is/are not implemented for GPU\n",
      "Default metric period is 5 because AUC is/are not implemented for GPU\n",
      "Default metric period is 5 because AUC is/are not implemented for GPU\n",
      "[I 2024-11-15 12:17:16,749] Trial 9 finished with value: 0.9394740582800283 and parameters: {'learning_rate': 0.03128253027612241, 'iterations': 1167, 'depth': 3, 'random_strength': 52, 'l2_leaf_reg': 0.85893367805875}. Best is trial 5 with value: 0.9399289267945985.\n"
     ]
    },
    {
     "name": "stdout",
     "output_type": "stream",
     "text": [
      "\n",
      "Overall Train Accuracy: 0.941\n",
      "Overall Validation Accuracy: 0.939\n"
     ]
    },
    {
     "name": "stderr",
     "output_type": "stream",
     "text": [
      "Default metric period is 5 because AUC is/are not implemented for GPU\n",
      "Default metric period is 5 because AUC is/are not implemented for GPU\n",
      "Default metric period is 5 because AUC is/are not implemented for GPU\n",
      "Default metric period is 5 because AUC is/are not implemented for GPU\n",
      "Default metric period is 5 because AUC is/are not implemented for GPU\n",
      "Default metric period is 5 because AUC is/are not implemented for GPU\n",
      "Default metric period is 5 because AUC is/are not implemented for GPU\n",
      "Default metric period is 5 because AUC is/are not implemented for GPU\n",
      "Default metric period is 5 because AUC is/are not implemented for GPU\n",
      "Default metric period is 5 because AUC is/are not implemented for GPU\n",
      "[I 2024-11-15 12:20:23,118] Trial 10 finished with value: 0.9397370291400142 and parameters: {'learning_rate': 0.08964183982589624, 'iterations': 1474, 'depth': 5, 'random_strength': 3, 'l2_leaf_reg': 0.007046870612058435}. Best is trial 5 with value: 0.9399289267945985.\n"
     ]
    },
    {
     "name": "stdout",
     "output_type": "stream",
     "text": [
      "\n",
      "Overall Train Accuracy: 0.944\n",
      "Overall Validation Accuracy: 0.940\n"
     ]
    },
    {
     "name": "stderr",
     "output_type": "stream",
     "text": [
      "Default metric period is 5 because AUC is/are not implemented for GPU\n",
      "Default metric period is 5 because AUC is/are not implemented for GPU\n",
      "Default metric period is 5 because AUC is/are not implemented for GPU\n",
      "Default metric period is 5 because AUC is/are not implemented for GPU\n",
      "Default metric period is 5 because AUC is/are not implemented for GPU\n",
      "Default metric period is 5 because AUC is/are not implemented for GPU\n",
      "Default metric period is 5 because AUC is/are not implemented for GPU\n",
      "Default metric period is 5 because AUC is/are not implemented for GPU\n",
      "Default metric period is 5 because AUC is/are not implemented for GPU\n",
      "Default metric period is 5 because AUC is/are not implemented for GPU\n",
      "[I 2024-11-15 12:34:09,724] Trial 11 finished with value: 0.9396659559346127 and parameters: {'learning_rate': 0.015234092064358353, 'iterations': 1789, 'depth': 8, 'random_strength': 24, 'l2_leaf_reg': 8.902823465785083}. Best is trial 5 with value: 0.9399289267945985.\n"
     ]
    },
    {
     "name": "stdout",
     "output_type": "stream",
     "text": [
      "\n",
      "Overall Train Accuracy: 0.947\n",
      "Overall Validation Accuracy: 0.940\n"
     ]
    },
    {
     "name": "stderr",
     "output_type": "stream",
     "text": [
      "Default metric period is 5 because AUC is/are not implemented for GPU\n",
      "Default metric period is 5 because AUC is/are not implemented for GPU\n",
      "Default metric period is 5 because AUC is/are not implemented for GPU\n",
      "Default metric period is 5 because AUC is/are not implemented for GPU\n",
      "Default metric period is 5 because AUC is/are not implemented for GPU\n",
      "Default metric period is 5 because AUC is/are not implemented for GPU\n",
      "Default metric period is 5 because AUC is/are not implemented for GPU\n",
      "Default metric period is 5 because AUC is/are not implemented for GPU\n",
      "Default metric period is 5 because AUC is/are not implemented for GPU\n",
      "Default metric period is 5 because AUC is/are not implemented for GPU\n",
      "[I 2024-11-15 12:38:46,692] Trial 12 finished with value: 0.9400142146410803 and parameters: {'learning_rate': 0.062226924594135084, 'iterations': 1591, 'depth': 8, 'random_strength': 31, 'l2_leaf_reg': 1.9035049163371365}. Best is trial 12 with value: 0.9400142146410803.\n"
     ]
    },
    {
     "name": "stdout",
     "output_type": "stream",
     "text": [
      "\n",
      "Overall Train Accuracy: 0.948\n",
      "Overall Validation Accuracy: 0.940\n"
     ]
    },
    {
     "name": "stderr",
     "output_type": "stream",
     "text": [
      "Default metric period is 5 because AUC is/are not implemented for GPU\n",
      "Default metric period is 5 because AUC is/are not implemented for GPU\n",
      "Default metric period is 5 because AUC is/are not implemented for GPU\n",
      "Default metric period is 5 because AUC is/are not implemented for GPU\n",
      "Default metric period is 5 because AUC is/are not implemented for GPU\n",
      "Default metric period is 5 because AUC is/are not implemented for GPU\n",
      "Default metric period is 5 because AUC is/are not implemented for GPU\n",
      "Default metric period is 5 because AUC is/are not implemented for GPU\n",
      "Default metric period is 5 because AUC is/are not implemented for GPU\n",
      "Default metric period is 5 because AUC is/are not implemented for GPU\n",
      "[I 2024-11-15 12:42:31,640] Trial 13 finished with value: 0.9401279317697228 and parameters: {'learning_rate': 0.0855092126837166, 'iterations': 1417, 'depth': 5, 'random_strength': 19, 'l2_leaf_reg': 0.8137962779292169}. Best is trial 13 with value: 0.9401279317697228.\n"
     ]
    },
    {
     "name": "stdout",
     "output_type": "stream",
     "text": [
      "\n",
      "Overall Train Accuracy: 0.944\n",
      "Overall Validation Accuracy: 0.940\n"
     ]
    },
    {
     "name": "stderr",
     "output_type": "stream",
     "text": [
      "Default metric period is 5 because AUC is/are not implemented for GPU\n",
      "Default metric period is 5 because AUC is/are not implemented for GPU\n",
      "Default metric period is 5 because AUC is/are not implemented for GPU\n",
      "Default metric period is 5 because AUC is/are not implemented for GPU\n",
      "Default metric period is 5 because AUC is/are not implemented for GPU\n",
      "Default metric period is 5 because AUC is/are not implemented for GPU\n",
      "Default metric period is 5 because AUC is/are not implemented for GPU\n",
      "Default metric period is 5 because AUC is/are not implemented for GPU\n",
      "Default metric period is 5 because AUC is/are not implemented for GPU\n",
      "Default metric period is 5 because AUC is/are not implemented for GPU\n",
      "[I 2024-11-15 12:45:32,212] Trial 14 finished with value: 0.9402914001421463 and parameters: {'learning_rate': 0.0948055046411941, 'iterations': 1588, 'depth': 5, 'random_strength': 12, 'l2_leaf_reg': 0.030735856220480844}. Best is trial 14 with value: 0.9402914001421463.\n"
     ]
    },
    {
     "name": "stdout",
     "output_type": "stream",
     "text": [
      "\n",
      "Overall Train Accuracy: 0.944\n",
      "Overall Validation Accuracy: 0.940\n"
     ]
    },
    {
     "name": "stderr",
     "output_type": "stream",
     "text": [
      "Default metric period is 5 because AUC is/are not implemented for GPU\n",
      "Default metric period is 5 because AUC is/are not implemented for GPU\n",
      "Default metric period is 5 because AUC is/are not implemented for GPU\n",
      "Default metric period is 5 because AUC is/are not implemented for GPU\n",
      "Default metric period is 5 because AUC is/are not implemented for GPU\n",
      "Default metric period is 5 because AUC is/are not implemented for GPU\n",
      "Default metric period is 5 because AUC is/are not implemented for GPU\n",
      "Default metric period is 5 because AUC is/are not implemented for GPU\n",
      "Default metric period is 5 because AUC is/are not implemented for GPU\n",
      "Default metric period is 5 because AUC is/are not implemented for GPU\n",
      "[I 2024-11-15 12:49:53,192] Trial 15 finished with value: 0.9395451314854298 and parameters: {'learning_rate': 0.057567287930069246, 'iterations': 1365, 'depth': 5, 'random_strength': 2, 'l2_leaf_reg': 0.0013315132505259798}. Best is trial 14 with value: 0.9402914001421463.\n"
     ]
    },
    {
     "name": "stdout",
     "output_type": "stream",
     "text": [
      "\n",
      "Overall Train Accuracy: 0.944\n",
      "Overall Validation Accuracy: 0.940\n"
     ]
    },
    {
     "name": "stderr",
     "output_type": "stream",
     "text": [
      "Default metric period is 5 because AUC is/are not implemented for GPU\n",
      "Default metric period is 5 because AUC is/are not implemented for GPU\n",
      "Default metric period is 5 because AUC is/are not implemented for GPU\n",
      "Default metric period is 5 because AUC is/are not implemented for GPU\n",
      "Default metric period is 5 because AUC is/are not implemented for GPU\n",
      "Default metric period is 5 because AUC is/are not implemented for GPU\n",
      "Default metric period is 5 because AUC is/are not implemented for GPU\n",
      "Default metric period is 5 because AUC is/are not implemented for GPU\n",
      "Default metric period is 5 because AUC is/are not implemented for GPU\n",
      "Default metric period is 5 because AUC is/are not implemented for GPU\n",
      "[I 2024-11-15 12:53:12,346] Trial 16 finished with value: 0.9399218194740582 and parameters: {'learning_rate': 0.08883204198123337, 'iterations': 1782, 'depth': 5, 'random_strength': 17, 'l2_leaf_reg': 0.025605172676486137}. Best is trial 14 with value: 0.9402914001421463.\n"
     ]
    },
    {
     "name": "stdout",
     "output_type": "stream",
     "text": [
      "\n",
      "Overall Train Accuracy: 0.944\n",
      "Overall Validation Accuracy: 0.940\n"
     ]
    },
    {
     "name": "stderr",
     "output_type": "stream",
     "text": [
      "Default metric period is 5 because AUC is/are not implemented for GPU\n",
      "Default metric period is 5 because AUC is/are not implemented for GPU\n",
      "Default metric period is 5 because AUC is/are not implemented for GPU\n",
      "Default metric period is 5 because AUC is/are not implemented for GPU\n",
      "Default metric period is 5 because AUC is/are not implemented for GPU\n",
      "Default metric period is 5 because AUC is/are not implemented for GPU\n",
      "Default metric period is 5 because AUC is/are not implemented for GPU\n",
      "Default metric period is 5 because AUC is/are not implemented for GPU\n",
      "Default metric period is 5 because AUC is/are not implemented for GPU\n",
      "Default metric period is 5 because AUC is/are not implemented for GPU\n",
      "[I 2024-11-15 12:58:59,322] Trial 17 finished with value: 0.9401208244491828 and parameters: {'learning_rate': 0.0453921320890574, 'iterations': 1521, 'depth': 4, 'random_strength': 14, 'l2_leaf_reg': 0.0007506424814826168}. Best is trial 14 with value: 0.9402914001421463.\n"
     ]
    },
    {
     "name": "stdout",
     "output_type": "stream",
     "text": [
      "\n",
      "Overall Train Accuracy: 0.943\n",
      "Overall Validation Accuracy: 0.940\n"
     ]
    },
    {
     "name": "stderr",
     "output_type": "stream",
     "text": [
      "Default metric period is 5 because AUC is/are not implemented for GPU\n",
      "Default metric period is 5 because AUC is/are not implemented for GPU\n",
      "Default metric period is 5 because AUC is/are not implemented for GPU\n",
      "Default metric period is 5 because AUC is/are not implemented for GPU\n",
      "Default metric period is 5 because AUC is/are not implemented for GPU\n",
      "Default metric period is 5 because AUC is/are not implemented for GPU\n",
      "Default metric period is 5 because AUC is/are not implemented for GPU\n",
      "Default metric period is 5 because AUC is/are not implemented for GPU\n",
      "Default metric period is 5 because AUC is/are not implemented for GPU\n",
      "Default metric period is 5 because AUC is/are not implemented for GPU\n",
      "[I 2024-11-15 13:06:45,501] Trial 18 finished with value: 0.9392466240227435 and parameters: {'learning_rate': 0.00954310287080762, 'iterations': 1317, 'depth': 6, 'random_strength': 13, 'l2_leaf_reg': 0.026070942814553657}. Best is trial 14 with value: 0.9402914001421463.\n"
     ]
    },
    {
     "name": "stdout",
     "output_type": "stream",
     "text": [
      "\n",
      "Overall Train Accuracy: 0.942\n",
      "Overall Validation Accuracy: 0.939\n"
     ]
    },
    {
     "name": "stderr",
     "output_type": "stream",
     "text": [
      "Default metric period is 5 because AUC is/are not implemented for GPU\n",
      "Default metric period is 5 because AUC is/are not implemented for GPU\n",
      "Default metric period is 5 because AUC is/are not implemented for GPU\n",
      "Default metric period is 5 because AUC is/are not implemented for GPU\n",
      "Default metric period is 5 because AUC is/are not implemented for GPU\n",
      "Default metric period is 5 because AUC is/are not implemented for GPU\n",
      "Default metric period is 5 because AUC is/are not implemented for GPU\n",
      "Default metric period is 5 because AUC is/are not implemented for GPU\n",
      "Default metric period is 5 because AUC is/are not implemented for GPU\n",
      "Default metric period is 5 because AUC is/are not implemented for GPU\n",
      "[I 2024-11-15 13:09:41,954] Trial 19 finished with value: 0.9394811656005686 and parameters: {'learning_rate': 0.09883080308030372, 'iterations': 1750, 'depth': 7, 'random_strength': 45, 'l2_leaf_reg': 0.5361589155380884}. Best is trial 14 with value: 0.9402914001421463.\n"
     ]
    },
    {
     "name": "stdout",
     "output_type": "stream",
     "text": [
      "\n",
      "Overall Train Accuracy: 0.946\n",
      "Overall Validation Accuracy: 0.939\n"
     ]
    },
    {
     "name": "stderr",
     "output_type": "stream",
     "text": [
      "Default metric period is 5 because AUC is/are not implemented for GPU\n",
      "Default metric period is 5 because AUC is/are not implemented for GPU\n",
      "Default metric period is 5 because AUC is/are not implemented for GPU\n",
      "Default metric period is 5 because AUC is/are not implemented for GPU\n",
      "Default metric period is 5 because AUC is/are not implemented for GPU\n",
      "Default metric period is 5 because AUC is/are not implemented for GPU\n",
      "Default metric period is 5 because AUC is/are not implemented for GPU\n",
      "Default metric period is 5 because AUC is/are not implemented for GPU\n",
      "Default metric period is 5 because AUC is/are not implemented for GPU\n",
      "Default metric period is 5 because AUC is/are not implemented for GPU\n",
      "[I 2024-11-15 13:11:22,021] Trial 20 finished with value: 0.9239232409381662 and parameters: {'learning_rate': 0.0010554702247838551, 'iterations': 934, 'depth': 5, 'random_strength': 25, 'l2_leaf_reg': 0.045007682066707216}. Best is trial 14 with value: 0.9402914001421463.\n"
     ]
    },
    {
     "name": "stdout",
     "output_type": "stream",
     "text": [
      "\n",
      "Overall Train Accuracy: 0.925\n",
      "Overall Validation Accuracy: 0.924\n"
     ]
    },
    {
     "name": "stderr",
     "output_type": "stream",
     "text": [
      "Default metric period is 5 because AUC is/are not implemented for GPU\n",
      "Default metric period is 5 because AUC is/are not implemented for GPU\n",
      "Default metric period is 5 because AUC is/are not implemented for GPU\n",
      "Default metric period is 5 because AUC is/are not implemented for GPU\n",
      "Default metric period is 5 because AUC is/are not implemented for GPU\n",
      "Default metric period is 5 because AUC is/are not implemented for GPU\n",
      "Default metric period is 5 because AUC is/are not implemented for GPU\n",
      "Default metric period is 5 because AUC is/are not implemented for GPU\n",
      "Default metric period is 5 because AUC is/are not implemented for GPU\n",
      "Default metric period is 5 because AUC is/are not implemented for GPU\n",
      "[I 2024-11-15 13:17:16,570] Trial 21 finished with value: 0.9399857853589196 and parameters: {'learning_rate': 0.04777710872542511, 'iterations': 1528, 'depth': 4, 'random_strength': 12, 'l2_leaf_reg': 0.00033793948639849537}. Best is trial 14 with value: 0.9402914001421463.\n"
     ]
    },
    {
     "name": "stdout",
     "output_type": "stream",
     "text": [
      "\n",
      "Overall Train Accuracy: 0.943\n",
      "Overall Validation Accuracy: 0.940\n"
     ]
    },
    {
     "name": "stderr",
     "output_type": "stream",
     "text": [
      "Default metric period is 5 because AUC is/are not implemented for GPU\n",
      "Default metric period is 5 because AUC is/are not implemented for GPU\n",
      "Default metric period is 5 because AUC is/are not implemented for GPU\n",
      "Default metric period is 5 because AUC is/are not implemented for GPU\n",
      "Default metric period is 5 because AUC is/are not implemented for GPU\n",
      "Default metric period is 5 because AUC is/are not implemented for GPU\n",
      "Default metric period is 5 because AUC is/are not implemented for GPU\n",
      "Default metric period is 5 because AUC is/are not implemented for GPU\n",
      "Default metric period is 5 because AUC is/are not implemented for GPU\n",
      "Default metric period is 5 because AUC is/are not implemented for GPU\n",
      "[I 2024-11-15 13:22:59,261] Trial 22 finished with value: 0.9398720682302771 and parameters: {'learning_rate': 0.040709581864456695, 'iterations': 1496, 'depth': 4, 'random_strength': 9, 'l2_leaf_reg': 0.00033266565510339205}. Best is trial 14 with value: 0.9402914001421463.\n"
     ]
    },
    {
     "name": "stdout",
     "output_type": "stream",
     "text": [
      "\n",
      "Overall Train Accuracy: 0.943\n",
      "Overall Validation Accuracy: 0.940\n"
     ]
    },
    {
     "name": "stderr",
     "output_type": "stream",
     "text": [
      "Default metric period is 5 because AUC is/are not implemented for GPU\n",
      "Default metric period is 5 because AUC is/are not implemented for GPU\n",
      "Default metric period is 5 because AUC is/are not implemented for GPU\n",
      "Default metric period is 5 because AUC is/are not implemented for GPU\n",
      "Default metric period is 5 because AUC is/are not implemented for GPU\n",
      "Default metric period is 5 because AUC is/are not implemented for GPU\n",
      "Default metric period is 5 because AUC is/are not implemented for GPU\n",
      "Default metric period is 5 because AUC is/are not implemented for GPU\n",
      "Default metric period is 5 because AUC is/are not implemented for GPU\n",
      "Default metric period is 5 because AUC is/are not implemented for GPU\n",
      "[I 2024-11-15 13:27:17,081] Trial 23 finished with value: 0.9399573560767591 and parameters: {'learning_rate': 0.06696011606127136, 'iterations': 1990, 'depth': 4, 'random_strength': 21, 'l2_leaf_reg': 0.0013983420193082762}. Best is trial 14 with value: 0.9402914001421463.\n"
     ]
    },
    {
     "name": "stdout",
     "output_type": "stream",
     "text": [
      "\n",
      "Overall Train Accuracy: 0.943\n",
      "Overall Validation Accuracy: 0.940\n"
     ]
    },
    {
     "name": "stderr",
     "output_type": "stream",
     "text": [
      "Default metric period is 5 because AUC is/are not implemented for GPU\n",
      "Default metric period is 5 because AUC is/are not implemented for GPU\n",
      "Default metric period is 5 because AUC is/are not implemented for GPU\n",
      "Default metric period is 5 because AUC is/are not implemented for GPU\n",
      "Default metric period is 5 because AUC is/are not implemented for GPU\n",
      "Default metric period is 5 because AUC is/are not implemented for GPU\n",
      "Default metric period is 5 because AUC is/are not implemented for GPU\n",
      "Default metric period is 5 because AUC is/are not implemented for GPU\n",
      "Default metric period is 5 because AUC is/are not implemented for GPU\n",
      "Default metric period is 5 because AUC is/are not implemented for GPU\n",
      "[I 2024-11-15 13:35:22,493] Trial 24 finished with value: 0.9398507462686568 and parameters: {'learning_rate': 0.017285067387398538, 'iterations': 1707, 'depth': 5, 'random_strength': 32, 'l2_leaf_reg': 0.005869800503664562}. Best is trial 14 with value: 0.9402914001421463.\n"
     ]
    },
    {
     "name": "stdout",
     "output_type": "stream",
     "text": [
      "\n",
      "Overall Train Accuracy: 0.943\n",
      "Overall Validation Accuracy: 0.940\n"
     ]
    },
    {
     "name": "stderr",
     "output_type": "stream",
     "text": [
      "Default metric period is 5 because AUC is/are not implemented for GPU\n",
      "Default metric period is 5 because AUC is/are not implemented for GPU\n",
      "Default metric period is 5 because AUC is/are not implemented for GPU\n",
      "Default metric period is 5 because AUC is/are not implemented for GPU\n",
      "Default metric period is 5 because AUC is/are not implemented for GPU\n",
      "Default metric period is 5 because AUC is/are not implemented for GPU\n",
      "Default metric period is 5 because AUC is/are not implemented for GPU\n",
      "Default metric period is 5 because AUC is/are not implemented for GPU\n",
      "Default metric period is 5 because AUC is/are not implemented for GPU\n",
      "Default metric period is 5 because AUC is/are not implemented for GPU\n",
      "[I 2024-11-15 13:39:57,792] Trial 25 finished with value: 0.9396730632551528 and parameters: {'learning_rate': 0.042237773929715915, 'iterations': 1562, 'depth': 6, 'random_strength': 0, 'l2_leaf_reg': 0.0003425070117198097}. Best is trial 14 with value: 0.9402914001421463.\n"
     ]
    },
    {
     "name": "stdout",
     "output_type": "stream",
     "text": [
      "\n",
      "Overall Train Accuracy: 0.944\n",
      "Overall Validation Accuracy: 0.940\n"
     ]
    },
    {
     "name": "stderr",
     "output_type": "stream",
     "text": [
      "Default metric period is 5 because AUC is/are not implemented for GPU\n",
      "Default metric period is 5 because AUC is/are not implemented for GPU\n",
      "Default metric period is 5 because AUC is/are not implemented for GPU\n",
      "Default metric period is 5 because AUC is/are not implemented for GPU\n",
      "Default metric period is 5 because AUC is/are not implemented for GPU\n",
      "Default metric period is 5 because AUC is/are not implemented for GPU\n",
      "Default metric period is 5 because AUC is/are not implemented for GPU\n",
      "Default metric period is 5 because AUC is/are not implemented for GPU\n",
      "Default metric period is 5 because AUC is/are not implemented for GPU\n",
      "Default metric period is 5 because AUC is/are not implemented for GPU\n",
      "[I 2024-11-15 13:43:55,186] Trial 26 finished with value: 0.939864960909737 and parameters: {'learning_rate': 0.06946426612582442, 'iterations': 1310, 'depth': 4, 'random_strength': 7, 'l2_leaf_reg': 1.8419375870127494e-05}. Best is trial 14 with value: 0.9402914001421463.\n"
     ]
    },
    {
     "name": "stdout",
     "output_type": "stream",
     "text": [
      "\n",
      "Overall Train Accuracy: 0.943\n",
      "Overall Validation Accuracy: 0.940\n"
     ]
    },
    {
     "name": "stderr",
     "output_type": "stream",
     "text": [
      "Default metric period is 5 because AUC is/are not implemented for GPU\n",
      "Default metric period is 5 because AUC is/are not implemented for GPU\n",
      "Default metric period is 5 because AUC is/are not implemented for GPU\n",
      "Default metric period is 5 because AUC is/are not implemented for GPU\n",
      "Default metric period is 5 because AUC is/are not implemented for GPU\n",
      "Default metric period is 5 because AUC is/are not implemented for GPU\n",
      "Default metric period is 5 because AUC is/are not implemented for GPU\n",
      "Default metric period is 5 because AUC is/are not implemented for GPU\n",
      "Default metric period is 5 because AUC is/are not implemented for GPU\n",
      "Default metric period is 5 because AUC is/are not implemented for GPU\n",
      "[I 2024-11-15 13:49:42,215] Trial 27 finished with value: 0.9401492537313432 and parameters: {'learning_rate': 0.041121681672115704, 'iterations': 1852, 'depth': 5, 'random_strength': 17, 'l2_leaf_reg': 0.598699560468059}. Best is trial 14 with value: 0.9402914001421463.\n"
     ]
    },
    {
     "name": "stdout",
     "output_type": "stream",
     "text": [
      "\n",
      "Overall Train Accuracy: 0.944\n",
      "Overall Validation Accuracy: 0.940\n"
     ]
    },
    {
     "name": "stderr",
     "output_type": "stream",
     "text": [
      "Default metric period is 5 because AUC is/are not implemented for GPU\n",
      "Default metric period is 5 because AUC is/are not implemented for GPU\n",
      "Default metric period is 5 because AUC is/are not implemented for GPU\n",
      "Default metric period is 5 because AUC is/are not implemented for GPU\n",
      "Default metric period is 5 because AUC is/are not implemented for GPU\n",
      "Default metric period is 5 because AUC is/are not implemented for GPU\n",
      "Default metric period is 5 because AUC is/are not implemented for GPU\n",
      "Default metric period is 5 because AUC is/are not implemented for GPU\n",
      "Default metric period is 5 because AUC is/are not implemented for GPU\n",
      "Default metric period is 5 because AUC is/are not implemented for GPU\n",
      "[I 2024-11-15 14:01:04,122] Trial 28 finished with value: 0.9399786780383795 and parameters: {'learning_rate': 0.015473657030618464, 'iterations': 1877, 'depth': 7, 'random_strength': 39, 'l2_leaf_reg': 0.4828193886540363}. Best is trial 14 with value: 0.9402914001421463.\n"
     ]
    },
    {
     "name": "stdout",
     "output_type": "stream",
     "text": [
      "\n",
      "Overall Train Accuracy: 0.945\n",
      "Overall Validation Accuracy: 0.940\n"
     ]
    },
    {
     "name": "stderr",
     "output_type": "stream",
     "text": [
      "Default metric period is 5 because AUC is/are not implemented for GPU\n",
      "Default metric period is 5 because AUC is/are not implemented for GPU\n",
      "Default metric period is 5 because AUC is/are not implemented for GPU\n",
      "Default metric period is 5 because AUC is/are not implemented for GPU\n",
      "Default metric period is 5 because AUC is/are not implemented for GPU\n",
      "Default metric period is 5 because AUC is/are not implemented for GPU\n",
      "Default metric period is 5 because AUC is/are not implemented for GPU\n",
      "Default metric period is 5 because AUC is/are not implemented for GPU\n",
      "Default metric period is 5 because AUC is/are not implemented for GPU\n",
      "Default metric period is 5 because AUC is/are not implemented for GPU\n",
      "[I 2024-11-15 14:05:16,647] Trial 29 finished with value: 0.9401421464108031 and parameters: {'learning_rate': 0.07560609986022193, 'iterations': 1851, 'depth': 5, 'random_strength': 21, 'l2_leaf_reg': 0.0704882410033988}. Best is trial 14 with value: 0.9402914001421463.\n"
     ]
    },
    {
     "name": "stdout",
     "output_type": "stream",
     "text": [
      "\n",
      "Overall Train Accuracy: 0.944\n",
      "Overall Validation Accuracy: 0.940\n",
      "CPU times: user 6h 8min 38s, sys: 46min 59s, total: 6h 55min 38s\n",
      "Wall time: 2h 41min 47s\n"
     ]
    }
   ],
   "source": [
    "%%time\n",
    "# Optuna로 최적화 수행\n",
    "study = optuna.create_study(direction='maximize', sampler=TPESampler())\n",
    "study.optimize(objective, n_trials=30)"
   ]
  },
  {
   "cell_type": "code",
   "execution_count": 27,
   "id": "c3f40a09",
   "metadata": {
    "execution": {
     "iopub.execute_input": "2024-11-15T14:05:16.778873Z",
     "iopub.status.busy": "2024-11-15T14:05:16.778565Z",
     "iopub.status.idle": "2024-11-15T14:05:16.783694Z",
     "shell.execute_reply": "2024-11-15T14:05:16.782793Z"
    },
    "papermill": {
     "duration": 0.048984,
     "end_time": "2024-11-15T14:05:16.785595",
     "exception": false,
     "start_time": "2024-11-15T14:05:16.736611",
     "status": "completed"
    },
    "tags": []
   },
   "outputs": [
    {
     "name": "stdout",
     "output_type": "stream",
     "text": [
      "Best parameters: {'learning_rate': 0.0948055046411941, 'iterations': 1588, 'depth': 5, 'random_strength': 12, 'l2_leaf_reg': 0.030735856220480844}\n",
      "Best validation accuracy: 0.940291400\n"
     ]
    }
   ],
   "source": [
    "# 최적 하이퍼파라미터 출력\n",
    "print(f\"Best parameters: {study.best_params}\")\n",
    "print(f\"Best validation accuracy: {study.best_value:.9f}\")"
   ]
  },
  {
   "cell_type": "code",
   "execution_count": 28,
   "id": "043b6c23",
   "metadata": {
    "execution": {
     "iopub.execute_input": "2024-11-15T14:05:16.869795Z",
     "iopub.status.busy": "2024-11-15T14:05:16.869440Z",
     "iopub.status.idle": "2024-11-15T14:08:25.409284Z",
     "shell.execute_reply": "2024-11-15T14:08:25.408297Z"
    },
    "papermill": {
     "duration": 188.627754,
     "end_time": "2024-11-15T14:08:25.454542",
     "exception": false,
     "start_time": "2024-11-15T14:05:16.826788",
     "status": "completed"
    },
    "tags": []
   },
   "outputs": [
    {
     "name": "stderr",
     "output_type": "stream",
     "text": [
      "Default metric period is 5 because AUC is/are not implemented for GPU\n"
     ]
    },
    {
     "name": "stdout",
     "output_type": "stream",
     "text": [
      "Fold 1 Train Accuracy: 0.944, Valid Accuracy: 0.940\n"
     ]
    },
    {
     "name": "stderr",
     "output_type": "stream",
     "text": [
      "Default metric period is 5 because AUC is/are not implemented for GPU\n"
     ]
    },
    {
     "name": "stdout",
     "output_type": "stream",
     "text": [
      "Fold 2 Train Accuracy: 0.944, Valid Accuracy: 0.941\n"
     ]
    },
    {
     "name": "stderr",
     "output_type": "stream",
     "text": [
      "Default metric period is 5 because AUC is/are not implemented for GPU\n"
     ]
    },
    {
     "name": "stdout",
     "output_type": "stream",
     "text": [
      "Fold 3 Train Accuracy: 0.943, Valid Accuracy: 0.939\n"
     ]
    },
    {
     "name": "stderr",
     "output_type": "stream",
     "text": [
      "Default metric period is 5 because AUC is/are not implemented for GPU\n"
     ]
    },
    {
     "name": "stdout",
     "output_type": "stream",
     "text": [
      "Fold 4 Train Accuracy: 0.944, Valid Accuracy: 0.938\n"
     ]
    },
    {
     "name": "stderr",
     "output_type": "stream",
     "text": [
      "Default metric period is 5 because AUC is/are not implemented for GPU\n"
     ]
    },
    {
     "name": "stdout",
     "output_type": "stream",
     "text": [
      "Fold 5 Train Accuracy: 0.944, Valid Accuracy: 0.941\n"
     ]
    },
    {
     "name": "stderr",
     "output_type": "stream",
     "text": [
      "Default metric period is 5 because AUC is/are not implemented for GPU\n"
     ]
    },
    {
     "name": "stdout",
     "output_type": "stream",
     "text": [
      "Fold 6 Train Accuracy: 0.943, Valid Accuracy: 0.942\n"
     ]
    },
    {
     "name": "stderr",
     "output_type": "stream",
     "text": [
      "Default metric period is 5 because AUC is/are not implemented for GPU\n"
     ]
    },
    {
     "name": "stdout",
     "output_type": "stream",
     "text": [
      "Fold 7 Train Accuracy: 0.945, Valid Accuracy: 0.942\n"
     ]
    },
    {
     "name": "stderr",
     "output_type": "stream",
     "text": [
      "Default metric period is 5 because AUC is/are not implemented for GPU\n"
     ]
    },
    {
     "name": "stdout",
     "output_type": "stream",
     "text": [
      "Fold 8 Train Accuracy: 0.944, Valid Accuracy: 0.939\n"
     ]
    },
    {
     "name": "stderr",
     "output_type": "stream",
     "text": [
      "Default metric period is 5 because AUC is/are not implemented for GPU\n"
     ]
    },
    {
     "name": "stdout",
     "output_type": "stream",
     "text": [
      "Fold 9 Train Accuracy: 0.943, Valid Accuracy: 0.939\n"
     ]
    },
    {
     "name": "stderr",
     "output_type": "stream",
     "text": [
      "Default metric period is 5 because AUC is/are not implemented for GPU\n"
     ]
    },
    {
     "name": "stdout",
     "output_type": "stream",
     "text": [
      "Fold 10 Train Accuracy: 0.945, Valid Accuracy: 0.941\n",
      "Overall Train Accuracy: 0.944\n",
      "Overall Valid Accuracy: 0.940\n"
     ]
    }
   ],
   "source": [
    "# 최적화된 파라미터로 최종 모델 학습\n",
    "final_catboost_params = study.best_params\n",
    "\n",
    "final_catboost_params.update({\n",
    "    'loss_function': 'Logloss',\n",
    "    'eval_metric': 'AUC',\n",
    "    'task_type': 'GPU'\n",
    "})\n",
    "\n",
    "# # 최종 모델 훈련 및 예측 (교차 검증을 통해 예측 수행)\n",
    "# fold = 10\n",
    "# SKF = StratifiedKFold(n_splits=fold, shuffle=True, random_state=0)\n",
    "# test_predictions = []\n",
    "\n",
    "# for train_idx, val_idx in SKF.split(X, y):\n",
    "#     X_train, X_val = X.iloc[train_idx], X.iloc[val_idx]\n",
    "#     y_train, y_val = y.iloc[train_idx], y.iloc[val_idx]\n",
    "    \n",
    "#     train_pool = Pool(X_train, y_train, cat_features=X.columns.values.tolist())\n",
    "#     test_pool = Pool(test, cat_features=X.columns.values.tolist())\n",
    "    \n",
    "#     model = CatBoostClassifier(**final_catboost_params)\n",
    "#     model.fit(train_pool, eval_set=(train_pool, y_train), early_stopping_rounds=50)\n",
    "    \n",
    "#     # 테스트 데이터 예측\n",
    "#     test_fold_pred = model.predict_proba(test_pool)[:, 1]\n",
    "#     test_predictions.append(test_fold_pred)\n",
    "\n",
    "meanOFF, meanTest = CAT_(X, y, test, final_catboost_params, fold=10, seed = 0)"
   ]
  },
  {
   "cell_type": "code",
   "execution_count": 29,
   "id": "f0d131f7",
   "metadata": {
    "execution": {
     "iopub.execute_input": "2024-11-15T14:08:25.541149Z",
     "iopub.status.busy": "2024-11-15T14:08:25.540836Z",
     "iopub.status.idle": "2024-11-15T14:08:25.695034Z",
     "shell.execute_reply": "2024-11-15T14:08:25.694078Z"
    },
    "papermill": {
     "duration": 0.199637,
     "end_time": "2024-11-15T14:08:25.696898",
     "exception": false,
     "start_time": "2024-11-15T14:08:25.497261",
     "status": "completed"
    },
    "tags": []
   },
   "outputs": [
    {
     "data": {
      "text/html": [
       "<div>\n",
       "<style scoped>\n",
       "    .dataframe tbody tr th:only-of-type {\n",
       "        vertical-align: middle;\n",
       "    }\n",
       "\n",
       "    .dataframe tbody tr th {\n",
       "        vertical-align: top;\n",
       "    }\n",
       "\n",
       "    .dataframe thead th {\n",
       "        text-align: right;\n",
       "    }\n",
       "</style>\n",
       "<table border=\"1\" class=\"dataframe\">\n",
       "  <thead>\n",
       "    <tr style=\"text-align: right;\">\n",
       "      <th></th>\n",
       "      <th>id</th>\n",
       "      <th>Depression</th>\n",
       "    </tr>\n",
       "  </thead>\n",
       "  <tbody>\n",
       "    <tr>\n",
       "      <th>0</th>\n",
       "      <td>140700</td>\n",
       "      <td>0.0</td>\n",
       "    </tr>\n",
       "    <tr>\n",
       "      <th>1</th>\n",
       "      <td>140701</td>\n",
       "      <td>0.0</td>\n",
       "    </tr>\n",
       "    <tr>\n",
       "      <th>2</th>\n",
       "      <td>140702</td>\n",
       "      <td>0.0</td>\n",
       "    </tr>\n",
       "    <tr>\n",
       "      <th>3</th>\n",
       "      <td>140703</td>\n",
       "      <td>1.0</td>\n",
       "    </tr>\n",
       "    <tr>\n",
       "      <th>4</th>\n",
       "      <td>140704</td>\n",
       "      <td>0.0</td>\n",
       "    </tr>\n",
       "  </tbody>\n",
       "</table>\n",
       "</div>"
      ],
      "text/plain": [
       "       id  Depression\n",
       "0  140700         0.0\n",
       "1  140701         0.0\n",
       "2  140702         0.0\n",
       "3  140703         1.0\n",
       "4  140704         0.0"
      ]
     },
     "execution_count": 29,
     "metadata": {},
     "output_type": "execute_result"
    }
   ],
   "source": [
    "# 결과를 'submission.csv'로 저장\n",
    "sample['Depression'] = np.round(meanTest)  # 예측 결과 반올림하여 저장\n",
    "\n",
    "# 결과 파일 저장\n",
    "sample.to_csv('submission.csv', index=False)\n",
    "\n",
    "# 제출 파일 확인\n",
    "sample.head()"
   ]
  }
 ],
 "metadata": {
  "kaggle": {
   "accelerator": "nvidiaTeslaT4",
   "dataSources": [
    {
     "databundleVersionId": 10008389,
     "sourceId": 84895,
     "sourceType": "competition"
    },
    {
     "datasetId": 5868381,
     "sourceId": 9616093,
     "sourceType": "datasetVersion"
    }
   ],
   "dockerImageVersionId": 30787,
   "isGpuEnabled": true,
   "isInternetEnabled": true,
   "language": "python",
   "sourceType": "notebook"
  },
  "kernelspec": {
   "display_name": "Python 3",
   "language": "python",
   "name": "python3"
  },
  "language_info": {
   "codemirror_mode": {
    "name": "ipython",
    "version": 3
   },
   "file_extension": ".py",
   "mimetype": "text/x-python",
   "name": "python",
   "nbconvert_exporter": "python",
   "pygments_lexer": "ipython3",
   "version": "3.10.14"
  },
  "papermill": {
   "default_parameters": {},
   "duration": 9914.929373,
   "end_time": "2024-11-15T14:08:26.660649",
   "environment_variables": {},
   "exception": null,
   "input_path": "__notebook__.ipynb",
   "output_path": "__notebook__.ipynb",
   "parameters": {},
   "start_time": "2024-11-15T11:23:11.731276",
   "version": "2.6.0"
  }
 },
 "nbformat": 4,
 "nbformat_minor": 5
}
